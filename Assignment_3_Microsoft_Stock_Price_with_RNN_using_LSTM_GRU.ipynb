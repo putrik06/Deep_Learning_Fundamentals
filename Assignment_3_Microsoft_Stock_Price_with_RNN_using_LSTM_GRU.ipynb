{
 "cells": [
  {
   "cell_type": "markdown",
   "metadata": {},
   "source": [
    "### Import packages and library"
   ]
  },
  {
   "cell_type": "code",
   "execution_count": null,
   "metadata": {},
   "outputs": [],
   "source": [
    "# Common imports\n",
    "import numpy as np\n",
    "import os, time\n",
    "import pandas as pd\n",
    "import sys\n",
    "import sklearn\n",
    "\n",
    "# Our new Deep Learning imports\n",
    "import tensorflow as tf\n",
    "from tensorflow import keras\n",
    "from keras import layers\n",
    "from keras.optimizers import Adam\n",
    "\n",
    "# To plot nice figures\n",
    "%matplotlib inline\n",
    "import matplotlib as mpl\n",
    "import matplotlib.pyplot as plt\n",
    "mpl.rc('axes', labelsize=14)\n",
    "mpl.rc('xtick', labelsize=12)\n",
    "mpl.rc('ytick', labelsize=12)\n",
    "import seaborn as sns; sns.set()\n",
    "\n",
    "# make it reproducible code\n",
    "np.random.seed(42)\n",
    "tf.random.set_seed(42)"
   ]
  },
  {
   "cell_type": "markdown",
   "metadata": {},
   "source": [
    "### Loading and initial processing of the dataset"
   ]
  },
  {
   "cell_type": "code",
   "execution_count": 1,
   "metadata": {
    "colab": {
     "base_uri": "https://localhost:8080/",
     "height": 424
    },
    "id": "pLCB4LJqGPm7",
    "outputId": "65e0b43f-235d-40e3-fef6-e5cde4c680ff"
   },
   "outputs": [
    {
     "data": {
      "text/html": [
       "<div>\n",
       "<style scoped>\n",
       "    .dataframe tbody tr th:only-of-type {\n",
       "        vertical-align: middle;\n",
       "    }\n",
       "\n",
       "    .dataframe tbody tr th {\n",
       "        vertical-align: top;\n",
       "    }\n",
       "\n",
       "    .dataframe thead th {\n",
       "        text-align: right;\n",
       "    }\n",
       "</style>\n",
       "<table border=\"1\" class=\"dataframe\">\n",
       "  <thead>\n",
       "    <tr style=\"text-align: right;\">\n",
       "      <th></th>\n",
       "      <th>Date</th>\n",
       "      <th>Open</th>\n",
       "      <th>High</th>\n",
       "      <th>Low</th>\n",
       "      <th>Close</th>\n",
       "      <th>Adj Close</th>\n",
       "      <th>Volume</th>\n",
       "    </tr>\n",
       "  </thead>\n",
       "  <tbody>\n",
       "    <tr>\n",
       "      <th>0</th>\n",
       "      <td>1986-03-14</td>\n",
       "      <td>0.097222</td>\n",
       "      <td>0.102431</td>\n",
       "      <td>0.097222</td>\n",
       "      <td>0.100694</td>\n",
       "      <td>0.062553</td>\n",
       "      <td>308160000</td>\n",
       "    </tr>\n",
       "    <tr>\n",
       "      <th>1</th>\n",
       "      <td>1986-03-17</td>\n",
       "      <td>0.100694</td>\n",
       "      <td>0.103299</td>\n",
       "      <td>0.100694</td>\n",
       "      <td>0.102431</td>\n",
       "      <td>0.063632</td>\n",
       "      <td>133171200</td>\n",
       "    </tr>\n",
       "    <tr>\n",
       "      <th>2</th>\n",
       "      <td>1986-03-18</td>\n",
       "      <td>0.102431</td>\n",
       "      <td>0.103299</td>\n",
       "      <td>0.098958</td>\n",
       "      <td>0.099826</td>\n",
       "      <td>0.062014</td>\n",
       "      <td>67766400</td>\n",
       "    </tr>\n",
       "    <tr>\n",
       "      <th>3</th>\n",
       "      <td>1986-03-19</td>\n",
       "      <td>0.099826</td>\n",
       "      <td>0.100694</td>\n",
       "      <td>0.097222</td>\n",
       "      <td>0.098090</td>\n",
       "      <td>0.060936</td>\n",
       "      <td>47894400</td>\n",
       "    </tr>\n",
       "    <tr>\n",
       "      <th>4</th>\n",
       "      <td>1986-03-20</td>\n",
       "      <td>0.098090</td>\n",
       "      <td>0.098090</td>\n",
       "      <td>0.094618</td>\n",
       "      <td>0.095486</td>\n",
       "      <td>0.059318</td>\n",
       "      <td>58435200</td>\n",
       "    </tr>\n",
       "    <tr>\n",
       "      <th>...</th>\n",
       "      <td>...</td>\n",
       "      <td>...</td>\n",
       "      <td>...</td>\n",
       "      <td>...</td>\n",
       "      <td>...</td>\n",
       "      <td>...</td>\n",
       "      <td>...</td>\n",
       "    </tr>\n",
       "    <tr>\n",
       "      <th>9483</th>\n",
       "      <td>2023-10-30</td>\n",
       "      <td>333.410004</td>\n",
       "      <td>339.450012</td>\n",
       "      <td>331.829987</td>\n",
       "      <td>337.309998</td>\n",
       "      <td>337.309998</td>\n",
       "      <td>22828100</td>\n",
       "    </tr>\n",
       "    <tr>\n",
       "      <th>9484</th>\n",
       "      <td>2023-10-31</td>\n",
       "      <td>338.850006</td>\n",
       "      <td>339.000000</td>\n",
       "      <td>334.690002</td>\n",
       "      <td>338.109985</td>\n",
       "      <td>338.109985</td>\n",
       "      <td>20265300</td>\n",
       "    </tr>\n",
       "    <tr>\n",
       "      <th>9485</th>\n",
       "      <td>2023-11-01</td>\n",
       "      <td>339.790009</td>\n",
       "      <td>347.420013</td>\n",
       "      <td>339.649994</td>\n",
       "      <td>346.070007</td>\n",
       "      <td>346.070007</td>\n",
       "      <td>28158800</td>\n",
       "    </tr>\n",
       "    <tr>\n",
       "      <th>9486</th>\n",
       "      <td>2023-11-02</td>\n",
       "      <td>347.239990</td>\n",
       "      <td>348.829987</td>\n",
       "      <td>344.769989</td>\n",
       "      <td>348.320007</td>\n",
       "      <td>348.320007</td>\n",
       "      <td>24348100</td>\n",
       "    </tr>\n",
       "    <tr>\n",
       "      <th>9487</th>\n",
       "      <td>2023-11-03</td>\n",
       "      <td>349.630005</td>\n",
       "      <td>354.390015</td>\n",
       "      <td>347.329987</td>\n",
       "      <td>352.799988</td>\n",
       "      <td>352.799988</td>\n",
       "      <td>23624000</td>\n",
       "    </tr>\n",
       "  </tbody>\n",
       "</table>\n",
       "<p>9488 rows × 7 columns</p>\n",
       "</div>"
      ],
      "text/plain": [
       "            Date        Open        High         Low       Close   Adj Close  \\\n",
       "0     1986-03-14    0.097222    0.102431    0.097222    0.100694    0.062553   \n",
       "1     1986-03-17    0.100694    0.103299    0.100694    0.102431    0.063632   \n",
       "2     1986-03-18    0.102431    0.103299    0.098958    0.099826    0.062014   \n",
       "3     1986-03-19    0.099826    0.100694    0.097222    0.098090    0.060936   \n",
       "4     1986-03-20    0.098090    0.098090    0.094618    0.095486    0.059318   \n",
       "...          ...         ...         ...         ...         ...         ...   \n",
       "9483  2023-10-30  333.410004  339.450012  331.829987  337.309998  337.309998   \n",
       "9484  2023-10-31  338.850006  339.000000  334.690002  338.109985  338.109985   \n",
       "9485  2023-11-01  339.790009  347.420013  339.649994  346.070007  346.070007   \n",
       "9486  2023-11-02  347.239990  348.829987  344.769989  348.320007  348.320007   \n",
       "9487  2023-11-03  349.630005  354.390015  347.329987  352.799988  352.799988   \n",
       "\n",
       "         Volume  \n",
       "0     308160000  \n",
       "1     133171200  \n",
       "2      67766400  \n",
       "3      47894400  \n",
       "4      58435200  \n",
       "...         ...  \n",
       "9483   22828100  \n",
       "9484   20265300  \n",
       "9485   28158800  \n",
       "9486   24348100  \n",
       "9487   23624000  \n",
       "\n",
       "[9488 rows x 7 columns]"
      ]
     },
     "execution_count": 1,
     "metadata": {},
     "output_type": "execute_result"
    }
   ],
   "source": [
    "microsoft_df = pd.read_csv(\"MSFT.csv\")\n",
    "microsoft_df"
   ]
  },
  {
   "cell_type": "code",
   "execution_count": 2,
   "metadata": {
    "colab": {
     "base_uri": "https://localhost:8080/",
     "height": 363
    },
    "id": "aGbxbQFlBQUS",
    "outputId": "19ca538b-de03-424f-850e-ad9a2b93eb98"
   },
   "outputs": [
    {
     "data": {
      "text/html": [
       "<div>\n",
       "<style scoped>\n",
       "    .dataframe tbody tr th:only-of-type {\n",
       "        vertical-align: middle;\n",
       "    }\n",
       "\n",
       "    .dataframe tbody tr th {\n",
       "        vertical-align: top;\n",
       "    }\n",
       "\n",
       "    .dataframe thead th {\n",
       "        text-align: right;\n",
       "    }\n",
       "</style>\n",
       "<table border=\"1\" class=\"dataframe\">\n",
       "  <thead>\n",
       "    <tr style=\"text-align: right;\">\n",
       "      <th></th>\n",
       "      <th>Date</th>\n",
       "      <th>Open</th>\n",
       "      <th>High</th>\n",
       "      <th>Low</th>\n",
       "      <th>Close</th>\n",
       "      <th>Adj Close</th>\n",
       "      <th>Volume</th>\n",
       "    </tr>\n",
       "  </thead>\n",
       "  <tbody>\n",
       "    <tr>\n",
       "      <th>9478</th>\n",
       "      <td>2023-10-23</td>\n",
       "      <td>325.470001</td>\n",
       "      <td>332.730011</td>\n",
       "      <td>324.390015</td>\n",
       "      <td>329.320007</td>\n",
       "      <td>329.320007</td>\n",
       "      <td>24374700</td>\n",
       "    </tr>\n",
       "    <tr>\n",
       "      <th>9479</th>\n",
       "      <td>2023-10-24</td>\n",
       "      <td>331.299988</td>\n",
       "      <td>331.839996</td>\n",
       "      <td>327.600006</td>\n",
       "      <td>330.529999</td>\n",
       "      <td>330.529999</td>\n",
       "      <td>31153600</td>\n",
       "    </tr>\n",
       "    <tr>\n",
       "      <th>9480</th>\n",
       "      <td>2023-10-25</td>\n",
       "      <td>345.019989</td>\n",
       "      <td>346.200012</td>\n",
       "      <td>337.619995</td>\n",
       "      <td>340.670013</td>\n",
       "      <td>340.670013</td>\n",
       "      <td>55053800</td>\n",
       "    </tr>\n",
       "    <tr>\n",
       "      <th>9481</th>\n",
       "      <td>2023-10-26</td>\n",
       "      <td>340.540009</td>\n",
       "      <td>341.630005</td>\n",
       "      <td>326.940002</td>\n",
       "      <td>327.890015</td>\n",
       "      <td>327.890015</td>\n",
       "      <td>37828500</td>\n",
       "    </tr>\n",
       "    <tr>\n",
       "      <th>9482</th>\n",
       "      <td>2023-10-27</td>\n",
       "      <td>330.429993</td>\n",
       "      <td>336.720001</td>\n",
       "      <td>328.399994</td>\n",
       "      <td>329.809998</td>\n",
       "      <td>329.809998</td>\n",
       "      <td>29856500</td>\n",
       "    </tr>\n",
       "    <tr>\n",
       "      <th>9483</th>\n",
       "      <td>2023-10-30</td>\n",
       "      <td>333.410004</td>\n",
       "      <td>339.450012</td>\n",
       "      <td>331.829987</td>\n",
       "      <td>337.309998</td>\n",
       "      <td>337.309998</td>\n",
       "      <td>22828100</td>\n",
       "    </tr>\n",
       "    <tr>\n",
       "      <th>9484</th>\n",
       "      <td>2023-10-31</td>\n",
       "      <td>338.850006</td>\n",
       "      <td>339.000000</td>\n",
       "      <td>334.690002</td>\n",
       "      <td>338.109985</td>\n",
       "      <td>338.109985</td>\n",
       "      <td>20265300</td>\n",
       "    </tr>\n",
       "    <tr>\n",
       "      <th>9485</th>\n",
       "      <td>2023-11-01</td>\n",
       "      <td>339.790009</td>\n",
       "      <td>347.420013</td>\n",
       "      <td>339.649994</td>\n",
       "      <td>346.070007</td>\n",
       "      <td>346.070007</td>\n",
       "      <td>28158800</td>\n",
       "    </tr>\n",
       "    <tr>\n",
       "      <th>9486</th>\n",
       "      <td>2023-11-02</td>\n",
       "      <td>347.239990</td>\n",
       "      <td>348.829987</td>\n",
       "      <td>344.769989</td>\n",
       "      <td>348.320007</td>\n",
       "      <td>348.320007</td>\n",
       "      <td>24348100</td>\n",
       "    </tr>\n",
       "    <tr>\n",
       "      <th>9487</th>\n",
       "      <td>2023-11-03</td>\n",
       "      <td>349.630005</td>\n",
       "      <td>354.390015</td>\n",
       "      <td>347.329987</td>\n",
       "      <td>352.799988</td>\n",
       "      <td>352.799988</td>\n",
       "      <td>23624000</td>\n",
       "    </tr>\n",
       "  </tbody>\n",
       "</table>\n",
       "</div>"
      ],
      "text/plain": [
       "            Date        Open        High         Low       Close   Adj Close  \\\n",
       "9478  2023-10-23  325.470001  332.730011  324.390015  329.320007  329.320007   \n",
       "9479  2023-10-24  331.299988  331.839996  327.600006  330.529999  330.529999   \n",
       "9480  2023-10-25  345.019989  346.200012  337.619995  340.670013  340.670013   \n",
       "9481  2023-10-26  340.540009  341.630005  326.940002  327.890015  327.890015   \n",
       "9482  2023-10-27  330.429993  336.720001  328.399994  329.809998  329.809998   \n",
       "9483  2023-10-30  333.410004  339.450012  331.829987  337.309998  337.309998   \n",
       "9484  2023-10-31  338.850006  339.000000  334.690002  338.109985  338.109985   \n",
       "9485  2023-11-01  339.790009  347.420013  339.649994  346.070007  346.070007   \n",
       "9486  2023-11-02  347.239990  348.829987  344.769989  348.320007  348.320007   \n",
       "9487  2023-11-03  349.630005  354.390015  347.329987  352.799988  352.799988   \n",
       "\n",
       "        Volume  \n",
       "9478  24374700  \n",
       "9479  31153600  \n",
       "9480  55053800  \n",
       "9481  37828500  \n",
       "9482  29856500  \n",
       "9483  22828100  \n",
       "9484  20265300  \n",
       "9485  28158800  \n",
       "9486  24348100  \n",
       "9487  23624000  "
      ]
     },
     "execution_count": 2,
     "metadata": {},
     "output_type": "execute_result"
    }
   ],
   "source": [
    "microsoft_df.tail(10)"
   ]
  },
  {
   "cell_type": "code",
   "execution_count": 3,
   "metadata": {
    "colab": {
     "base_uri": "https://localhost:8080/",
     "height": 300
    },
    "id": "uqCPMQqfjl2G",
    "outputId": "a3e8ddd8-332d-4d71-ed6b-0da2946caced"
   },
   "outputs": [
    {
     "data": {
      "text/html": [
       "<div>\n",
       "<style scoped>\n",
       "    .dataframe tbody tr th:only-of-type {\n",
       "        vertical-align: middle;\n",
       "    }\n",
       "\n",
       "    .dataframe tbody tr th {\n",
       "        vertical-align: top;\n",
       "    }\n",
       "\n",
       "    .dataframe thead th {\n",
       "        text-align: right;\n",
       "    }\n",
       "</style>\n",
       "<table border=\"1\" class=\"dataframe\">\n",
       "  <thead>\n",
       "    <tr style=\"text-align: right;\">\n",
       "      <th></th>\n",
       "      <th>Open</th>\n",
       "      <th>High</th>\n",
       "      <th>Low</th>\n",
       "      <th>Close</th>\n",
       "      <th>Adj Close</th>\n",
       "      <th>Volume</th>\n",
       "    </tr>\n",
       "  </thead>\n",
       "  <tbody>\n",
       "    <tr>\n",
       "      <th>count</th>\n",
       "      <td>9488.000000</td>\n",
       "      <td>9488.000000</td>\n",
       "      <td>9488.000000</td>\n",
       "      <td>9488.000000</td>\n",
       "      <td>9488.000000</td>\n",
       "      <td>9.488000e+03</td>\n",
       "    </tr>\n",
       "    <tr>\n",
       "      <th>mean</th>\n",
       "      <td>51.652123</td>\n",
       "      <td>52.206647</td>\n",
       "      <td>51.088299</td>\n",
       "      <td>51.664912</td>\n",
       "      <td>46.230137</td>\n",
       "      <td>5.734718e+07</td>\n",
       "    </tr>\n",
       "    <tr>\n",
       "      <th>std</th>\n",
       "      <td>76.505392</td>\n",
       "      <td>77.292073</td>\n",
       "      <td>75.690024</td>\n",
       "      <td>76.523281</td>\n",
       "      <td>76.616447</td>\n",
       "      <td>3.684581e+07</td>\n",
       "    </tr>\n",
       "    <tr>\n",
       "      <th>min</th>\n",
       "      <td>0.090278</td>\n",
       "      <td>0.092014</td>\n",
       "      <td>0.089410</td>\n",
       "      <td>0.090278</td>\n",
       "      <td>0.056083</td>\n",
       "      <td>2.304000e+06</td>\n",
       "    </tr>\n",
       "    <tr>\n",
       "      <th>25%</th>\n",
       "      <td>5.500000</td>\n",
       "      <td>5.591797</td>\n",
       "      <td>5.421875</td>\n",
       "      <td>5.482422</td>\n",
       "      <td>3.405801</td>\n",
       "      <td>3.315208e+07</td>\n",
       "    </tr>\n",
       "    <tr>\n",
       "      <th>50%</th>\n",
       "      <td>27.160000</td>\n",
       "      <td>27.440001</td>\n",
       "      <td>26.940001</td>\n",
       "      <td>27.190001</td>\n",
       "      <td>19.103070</td>\n",
       "      <td>5.059745e+07</td>\n",
       "    </tr>\n",
       "    <tr>\n",
       "      <th>75%</th>\n",
       "      <td>45.000000</td>\n",
       "      <td>45.452500</td>\n",
       "      <td>44.529999</td>\n",
       "      <td>44.994141</td>\n",
       "      <td>35.529859</td>\n",
       "      <td>7.131498e+07</td>\n",
       "    </tr>\n",
       "    <tr>\n",
       "      <th>max</th>\n",
       "      <td>361.750000</td>\n",
       "      <td>366.779999</td>\n",
       "      <td>352.440002</td>\n",
       "      <td>359.489990</td>\n",
       "      <td>358.730469</td>\n",
       "      <td>7.886880e+08</td>\n",
       "    </tr>\n",
       "  </tbody>\n",
       "</table>\n",
       "</div>"
      ],
      "text/plain": [
       "              Open         High          Low        Close    Adj Close  \\\n",
       "count  9488.000000  9488.000000  9488.000000  9488.000000  9488.000000   \n",
       "mean     51.652123    52.206647    51.088299    51.664912    46.230137   \n",
       "std      76.505392    77.292073    75.690024    76.523281    76.616447   \n",
       "min       0.090278     0.092014     0.089410     0.090278     0.056083   \n",
       "25%       5.500000     5.591797     5.421875     5.482422     3.405801   \n",
       "50%      27.160000    27.440001    26.940001    27.190001    19.103070   \n",
       "75%      45.000000    45.452500    44.529999    44.994141    35.529859   \n",
       "max     361.750000   366.779999   352.440002   359.489990   358.730469   \n",
       "\n",
       "             Volume  \n",
       "count  9.488000e+03  \n",
       "mean   5.734718e+07  \n",
       "std    3.684581e+07  \n",
       "min    2.304000e+06  \n",
       "25%    3.315208e+07  \n",
       "50%    5.059745e+07  \n",
       "75%    7.131498e+07  \n",
       "max    7.886880e+08  "
      ]
     },
     "execution_count": 3,
     "metadata": {},
     "output_type": "execute_result"
    }
   ],
   "source": [
    "# Summary Stats\n",
    "microsoft_df.describe()"
   ]
  },
  {
   "cell_type": "code",
   "execution_count": 4,
   "metadata": {
    "id": "yeMFRVeBH4dk"
   },
   "outputs": [],
   "source": [
    "# the stock price is not closed on everyday basis because on certain reasons:\n",
    "# market hours - stock market have specific trading hours. NASDAQ have regular time hours from 9.30am to 4,00pm\n",
    "# holiday weekend - no trading on weekends\n",
    "# low liquidity - not popular stocks may have not active trading everyday.\n",
    "# long-term investing- many investors buy stocks with a long term perspective and are not actively trading everyday\n",
    "# price stability - considerable stable or \"blue chip\" stocks and may not experience price fluctuation. investors may holding this stocks\n",
    "\n",
    "#Closing Price\n",
    "#The closing price is the last price at which the stock is traded during the regular trading day. A stock’s closing price is the standard benchmark used by investors to track its performance over time."
   ]
  },
  {
   "cell_type": "code",
   "execution_count": 8,
   "metadata": {
    "colab": {
     "base_uri": "https://localhost:8080/",
     "height": 424
    },
    "id": "-wZntvpCPseR",
    "outputId": "ee572b7f-4fdf-480d-c6f9-7077ba7a1371"
   },
   "outputs": [
    {
     "data": {
      "text/html": [
       "<div>\n",
       "<style scoped>\n",
       "    .dataframe tbody tr th:only-of-type {\n",
       "        vertical-align: middle;\n",
       "    }\n",
       "\n",
       "    .dataframe tbody tr th {\n",
       "        vertical-align: top;\n",
       "    }\n",
       "\n",
       "    .dataframe thead th {\n",
       "        text-align: right;\n",
       "    }\n",
       "</style>\n",
       "<table border=\"1\" class=\"dataframe\">\n",
       "  <thead>\n",
       "    <tr style=\"text-align: right;\">\n",
       "      <th></th>\n",
       "      <th>Date</th>\n",
       "      <th>Close</th>\n",
       "    </tr>\n",
       "  </thead>\n",
       "  <tbody>\n",
       "    <tr>\n",
       "      <th>0</th>\n",
       "      <td>1986-03-14</td>\n",
       "      <td>0.100694</td>\n",
       "    </tr>\n",
       "    <tr>\n",
       "      <th>1</th>\n",
       "      <td>1986-03-17</td>\n",
       "      <td>0.102431</td>\n",
       "    </tr>\n",
       "    <tr>\n",
       "      <th>2</th>\n",
       "      <td>1986-03-18</td>\n",
       "      <td>0.099826</td>\n",
       "    </tr>\n",
       "    <tr>\n",
       "      <th>3</th>\n",
       "      <td>1986-03-19</td>\n",
       "      <td>0.098090</td>\n",
       "    </tr>\n",
       "    <tr>\n",
       "      <th>4</th>\n",
       "      <td>1986-03-20</td>\n",
       "      <td>0.095486</td>\n",
       "    </tr>\n",
       "    <tr>\n",
       "      <th>...</th>\n",
       "      <td>...</td>\n",
       "      <td>...</td>\n",
       "    </tr>\n",
       "    <tr>\n",
       "      <th>9483</th>\n",
       "      <td>2023-10-30</td>\n",
       "      <td>337.309998</td>\n",
       "    </tr>\n",
       "    <tr>\n",
       "      <th>9484</th>\n",
       "      <td>2023-10-31</td>\n",
       "      <td>338.109985</td>\n",
       "    </tr>\n",
       "    <tr>\n",
       "      <th>9485</th>\n",
       "      <td>2023-11-01</td>\n",
       "      <td>346.070007</td>\n",
       "    </tr>\n",
       "    <tr>\n",
       "      <th>9486</th>\n",
       "      <td>2023-11-02</td>\n",
       "      <td>348.320007</td>\n",
       "    </tr>\n",
       "    <tr>\n",
       "      <th>9487</th>\n",
       "      <td>2023-11-03</td>\n",
       "      <td>352.799988</td>\n",
       "    </tr>\n",
       "  </tbody>\n",
       "</table>\n",
       "<p>9488 rows × 2 columns</p>\n",
       "</div>"
      ],
      "text/plain": [
       "            Date       Close\n",
       "0     1986-03-14    0.100694\n",
       "1     1986-03-17    0.102431\n",
       "2     1986-03-18    0.099826\n",
       "3     1986-03-19    0.098090\n",
       "4     1986-03-20    0.095486\n",
       "...          ...         ...\n",
       "9483  2023-10-30  337.309998\n",
       "9484  2023-10-31  338.109985\n",
       "9485  2023-11-01  346.070007\n",
       "9486  2023-11-02  348.320007\n",
       "9487  2023-11-03  352.799988\n",
       "\n",
       "[9488 rows x 2 columns]"
      ]
     },
     "execution_count": 8,
     "metadata": {},
     "output_type": "execute_result"
    }
   ],
   "source": [
    "# Get the date and close columns\n",
    "microsoft_df = microsoft_df[[\"Date\",\"Close\"]]\n",
    "microsoft_df"
   ]
  },
  {
   "cell_type": "code",
   "execution_count": 9,
   "metadata": {
    "colab": {
     "base_uri": "https://localhost:8080/"
    },
    "id": "CNzYWeSsP9N1",
    "outputId": "a6777dbb-2827-4ab4-f49f-2cfa47a95357"
   },
   "outputs": [
    {
     "name": "stdout",
     "output_type": "stream",
     "text": [
      "           Date       Close\n",
      "0    1986-03-14    0.100694\n",
      "1    1986-03-17    0.102431\n",
      "2    1986-03-18    0.099826\n",
      "3    1986-03-19    0.098090\n",
      "4    1986-03-20    0.095486\n",
      "...         ...         ...\n",
      "9483 2023-10-30  337.309998\n",
      "9484 2023-10-31  338.109985\n",
      "9485 2023-11-01  346.070007\n",
      "9486 2023-11-02  348.320007\n",
      "9487 2023-11-03  352.799988\n",
      "\n",
      "[9488 rows x 2 columns]\n"
     ]
    },
    {
     "name": "stderr",
     "output_type": "stream",
     "text": [
      "C:\\Users\\PUTRI KHALILAH\\AppData\\Local\\Temp\\ipykernel_23848\\800606144.py:2: SettingWithCopyWarning: \n",
      "A value is trying to be set on a copy of a slice from a DataFrame.\n",
      "Try using .loc[row_indexer,col_indexer] = value instead\n",
      "\n",
      "See the caveats in the documentation: https://pandas.pydata.org/pandas-docs/stable/user_guide/indexing.html#returning-a-view-versus-a-copy\n",
      "  microsoft_df['Date'] = pd.to_datetime(microsoft_df['Date'])\n"
     ]
    }
   ],
   "source": [
    "# change the date from character to to datetime type\n",
    "microsoft_df['Date'] = pd.to_datetime(microsoft_df['Date'])\n",
    "print(microsoft_df)"
   ]
  },
  {
   "cell_type": "code",
   "execution_count": 10,
   "metadata": {
    "colab": {
     "base_uri": "https://localhost:8080/",
     "height": 455
    },
    "id": "JvH8b2eFQ-QW",
    "outputId": "e87a9237-dbbc-4b44-fd1e-7493162eab36"
   },
   "outputs": [
    {
     "data": {
      "text/html": [
       "<div>\n",
       "<style scoped>\n",
       "    .dataframe tbody tr th:only-of-type {\n",
       "        vertical-align: middle;\n",
       "    }\n",
       "\n",
       "    .dataframe tbody tr th {\n",
       "        vertical-align: top;\n",
       "    }\n",
       "\n",
       "    .dataframe thead th {\n",
       "        text-align: right;\n",
       "    }\n",
       "</style>\n",
       "<table border=\"1\" class=\"dataframe\">\n",
       "  <thead>\n",
       "    <tr style=\"text-align: right;\">\n",
       "      <th></th>\n",
       "      <th>Close</th>\n",
       "    </tr>\n",
       "    <tr>\n",
       "      <th>Date</th>\n",
       "      <th></th>\n",
       "    </tr>\n",
       "  </thead>\n",
       "  <tbody>\n",
       "    <tr>\n",
       "      <th>1986-03-14</th>\n",
       "      <td>0.100694</td>\n",
       "    </tr>\n",
       "    <tr>\n",
       "      <th>1986-03-17</th>\n",
       "      <td>0.102431</td>\n",
       "    </tr>\n",
       "    <tr>\n",
       "      <th>1986-03-18</th>\n",
       "      <td>0.099826</td>\n",
       "    </tr>\n",
       "    <tr>\n",
       "      <th>1986-03-19</th>\n",
       "      <td>0.098090</td>\n",
       "    </tr>\n",
       "    <tr>\n",
       "      <th>1986-03-20</th>\n",
       "      <td>0.095486</td>\n",
       "    </tr>\n",
       "    <tr>\n",
       "      <th>...</th>\n",
       "      <td>...</td>\n",
       "    </tr>\n",
       "    <tr>\n",
       "      <th>2023-10-30</th>\n",
       "      <td>337.309998</td>\n",
       "    </tr>\n",
       "    <tr>\n",
       "      <th>2023-10-31</th>\n",
       "      <td>338.109985</td>\n",
       "    </tr>\n",
       "    <tr>\n",
       "      <th>2023-11-01</th>\n",
       "      <td>346.070007</td>\n",
       "    </tr>\n",
       "    <tr>\n",
       "      <th>2023-11-02</th>\n",
       "      <td>348.320007</td>\n",
       "    </tr>\n",
       "    <tr>\n",
       "      <th>2023-11-03</th>\n",
       "      <td>352.799988</td>\n",
       "    </tr>\n",
       "  </tbody>\n",
       "</table>\n",
       "<p>9488 rows × 1 columns</p>\n",
       "</div>"
      ],
      "text/plain": [
       "                 Close\n",
       "Date                  \n",
       "1986-03-14    0.100694\n",
       "1986-03-17    0.102431\n",
       "1986-03-18    0.099826\n",
       "1986-03-19    0.098090\n",
       "1986-03-20    0.095486\n",
       "...                ...\n",
       "2023-10-30  337.309998\n",
       "2023-10-31  338.109985\n",
       "2023-11-01  346.070007\n",
       "2023-11-02  348.320007\n",
       "2023-11-03  352.799988\n",
       "\n",
       "[9488 rows x 1 columns]"
      ]
     },
     "execution_count": 10,
     "metadata": {},
     "output_type": "execute_result"
    }
   ],
   "source": [
    "# Make the Date column as the index\n",
    "microsoft_df.index = microsoft_df.pop(\"Date\")\n",
    "microsoft_df"
   ]
  },
  {
   "cell_type": "code",
   "execution_count": 11,
   "metadata": {
    "colab": {
     "base_uri": "https://localhost:8080/",
     "height": 430
    },
    "id": "EkEBapPzRH9b",
    "outputId": "e93b7db4-9191-455f-9de3-efdf35c4631b"
   },
   "outputs": [
    {
     "data": {
      "image/png": "[encoded data removed]",
      "text/plain": [
       "<Figure size 432x288 with 1 Axes>"
      ]
     },
     "metadata": {
      "needs_background": "light"
     },
     "output_type": "display_data"
    }
   ],
   "source": [
    "# plot the data based on Close price\n",
    "plt.plot(microsoft_df.index,microsoft_df[\"Close\"])\n",
    "plt.show()"
   ]
  },
  {
   "cell_type": "code",
   "execution_count": 12,
   "metadata": {
    "id": "T_kBMOxzYBD3"
   },
   "outputs": [],
   "source": [
    "# Wec can see the data is non-stationary especially after 2015, we can see there is surged trend a bit of fluactating in the middle of 2022-2023"
   ]
  },
  {
   "cell_type": "markdown",
   "metadata": {},
   "source": [
    "### Make a window time stamp of 3 days with 1986 to 2023 range of data"
   ]
  },
  {
   "cell_type": "code",
   "execution_count": 13,
   "metadata": {
    "colab": {
     "base_uri": "https://localhost:8080/",
     "height": 424
    },
    "id": "fsU9d3u0HdYj",
    "outputId": "1c4d0093-818b-4e76-cea7-c6981bde2fc6"
   },
   "outputs": [
    {
     "data": {
      "text/html": [
       "<div>\n",
       "<style scoped>\n",
       "    .dataframe tbody tr th:only-of-type {\n",
       "        vertical-align: middle;\n",
       "    }\n",
       "\n",
       "    .dataframe tbody tr th {\n",
       "        vertical-align: top;\n",
       "    }\n",
       "\n",
       "    .dataframe thead th {\n",
       "        text-align: right;\n",
       "    }\n",
       "</style>\n",
       "<table border=\"1\" class=\"dataframe\">\n",
       "  <thead>\n",
       "    <tr style=\"text-align: right;\">\n",
       "      <th></th>\n",
       "      <th>Target Date</th>\n",
       "      <th>Target-3</th>\n",
       "      <th>Target-2</th>\n",
       "      <th>Target-1</th>\n",
       "      <th>Target</th>\n",
       "    </tr>\n",
       "  </thead>\n",
       "  <tbody>\n",
       "    <tr>\n",
       "      <th>0</th>\n",
       "      <td>1986-03-19</td>\n",
       "      <td>0.100694</td>\n",
       "      <td>0.102431</td>\n",
       "      <td>0.099826</td>\n",
       "      <td>0.098090</td>\n",
       "    </tr>\n",
       "    <tr>\n",
       "      <th>1</th>\n",
       "      <td>1986-03-20</td>\n",
       "      <td>0.102431</td>\n",
       "      <td>0.099826</td>\n",
       "      <td>0.098090</td>\n",
       "      <td>0.095486</td>\n",
       "    </tr>\n",
       "    <tr>\n",
       "      <th>2</th>\n",
       "      <td>1986-03-21</td>\n",
       "      <td>0.099826</td>\n",
       "      <td>0.098090</td>\n",
       "      <td>0.095486</td>\n",
       "      <td>0.092882</td>\n",
       "    </tr>\n",
       "    <tr>\n",
       "      <th>3</th>\n",
       "      <td>1986-03-24</td>\n",
       "      <td>0.098090</td>\n",
       "      <td>0.095486</td>\n",
       "      <td>0.092882</td>\n",
       "      <td>0.090278</td>\n",
       "    </tr>\n",
       "    <tr>\n",
       "      <th>4</th>\n",
       "      <td>1986-03-25</td>\n",
       "      <td>0.095486</td>\n",
       "      <td>0.092882</td>\n",
       "      <td>0.090278</td>\n",
       "      <td>0.092014</td>\n",
       "    </tr>\n",
       "    <tr>\n",
       "      <th>...</th>\n",
       "      <td>...</td>\n",
       "      <td>...</td>\n",
       "      <td>...</td>\n",
       "      <td>...</td>\n",
       "      <td>...</td>\n",
       "    </tr>\n",
       "    <tr>\n",
       "      <th>9480</th>\n",
       "      <td>2023-10-30</td>\n",
       "      <td>340.670013</td>\n",
       "      <td>327.890015</td>\n",
       "      <td>329.809998</td>\n",
       "      <td>337.309998</td>\n",
       "    </tr>\n",
       "    <tr>\n",
       "      <th>9481</th>\n",
       "      <td>2023-10-31</td>\n",
       "      <td>327.890015</td>\n",
       "      <td>329.809998</td>\n",
       "      <td>337.309998</td>\n",
       "      <td>338.109985</td>\n",
       "    </tr>\n",
       "    <tr>\n",
       "      <th>9482</th>\n",
       "      <td>2023-11-01</td>\n",
       "      <td>329.809998</td>\n",
       "      <td>337.309998</td>\n",
       "      <td>338.109985</td>\n",
       "      <td>346.070007</td>\n",
       "    </tr>\n",
       "    <tr>\n",
       "      <th>9483</th>\n",
       "      <td>2023-11-02</td>\n",
       "      <td>337.309998</td>\n",
       "      <td>338.109985</td>\n",
       "      <td>346.070007</td>\n",
       "      <td>348.320007</td>\n",
       "    </tr>\n",
       "    <tr>\n",
       "      <th>9484</th>\n",
       "      <td>2023-11-03</td>\n",
       "      <td>338.109985</td>\n",
       "      <td>346.070007</td>\n",
       "      <td>348.320007</td>\n",
       "      <td>352.799988</td>\n",
       "    </tr>\n",
       "  </tbody>\n",
       "</table>\n",
       "<p>9485 rows × 5 columns</p>\n",
       "</div>"
      ],
      "text/plain": [
       "     Target Date    Target-3    Target-2    Target-1      Target\n",
       "0     1986-03-19    0.100694    0.102431    0.099826    0.098090\n",
       "1     1986-03-20    0.102431    0.099826    0.098090    0.095486\n",
       "2     1986-03-21    0.099826    0.098090    0.095486    0.092882\n",
       "3     1986-03-24    0.098090    0.095486    0.092882    0.090278\n",
       "4     1986-03-25    0.095486    0.092882    0.090278    0.092014\n",
       "...          ...         ...         ...         ...         ...\n",
       "9480  2023-10-30  340.670013  327.890015  329.809998  337.309998\n",
       "9481  2023-10-31  327.890015  329.809998  337.309998  338.109985\n",
       "9482  2023-11-01  329.809998  337.309998  338.109985  346.070007\n",
       "9483  2023-11-02  337.309998  338.109985  346.070007  348.320007\n",
       "9484  2023-11-03  338.109985  346.070007  348.320007  352.799988\n",
       "\n",
       "[9485 rows x 5 columns]"
      ]
     },
     "execution_count": 13,
     "metadata": {},
     "output_type": "execute_result"
    }
   ],
   "source": [
    "import datetime\n",
    "\n",
    "# Window timestamp of 3 days - perhaps this can be modified to make it more predictor variables\n",
    "def df_to_windowed_df(dataframe, first_date_str, last_date_str, n=3):\n",
    "  first_date = pd.to_datetime(first_date_str)\n",
    "  last_date  = pd.to_datetime(last_date_str)\n",
    "\n",
    "  target_date = first_date\n",
    "\n",
    "  dates = []\n",
    "  X, Y = [], []\n",
    "\n",
    "  last_time = False\n",
    "  while True:\n",
    "    df_subset = dataframe.loc[:target_date].tail(n+1)\n",
    "\n",
    "    if len(df_subset) != n+1:\n",
    "      print(f'Error: Window of size {n} is too large for date {target_date}')\n",
    "      return\n",
    "\n",
    "    values = df_subset['Close'].to_numpy()\n",
    "    x, y = values[:-1], values[-1]\n",
    "\n",
    "    dates.append(target_date)\n",
    "    X.append(x)\n",
    "    Y.append(y)\n",
    "\n",
    "    next_week = dataframe.loc[target_date:target_date+datetime.timedelta(days=7)]\n",
    "    next_datetime_str = str(next_week.head(2).tail(1).index.values[0])\n",
    "    next_date_str = next_datetime_str.split('T')[0]\n",
    "    year_month_day = next_date_str.split('-')\n",
    "    year, month, day = year_month_day\n",
    "    next_date = datetime.datetime(day=int(day), month=int(month), year=int(year))\n",
    "\n",
    "    if last_time:\n",
    "      break\n",
    "\n",
    "    target_date = next_date\n",
    "\n",
    "    if target_date == last_date:\n",
    "      last_time = True\n",
    "\n",
    "  ret_df = pd.DataFrame({})\n",
    "  ret_df['Target Date'] = dates\n",
    "\n",
    "  X = np.array(X)\n",
    "  for i in range(0, n):\n",
    "    X[:, i]\n",
    "    ret_df[f'Target-{n-i}'] = X[:, i]\n",
    "\n",
    "  ret_df['Target'] = Y\n",
    "\n",
    "  return ret_df\n",
    "\n",
    "# Start day second time around: '2021-03-25'\n",
    "windowed_df_3_days = df_to_windowed_df(microsoft_df,\n",
    "                                '1986-03-19',\n",
    "                                '2023-11-03',\n",
    "                                n=3)\n",
    "windowed_df_3_days"
   ]
  },
  {
   "cell_type": "markdown",
   "metadata": {},
   "source": [
    "### Normalize the data"
   ]
  },
  {
   "cell_type": "code",
   "execution_count": 14,
   "metadata": {
    "colab": {
     "base_uri": "https://localhost:8080/"
    },
    "id": "zwDVjCPJRTtk",
    "outputId": "898e5b6e-07d7-4f30-f695-1c865e1435e8"
   },
   "outputs": [
    {
     "data": {
      "text/plain": [
       "((9485, 3, 1), (9485,), (9485,))"
      ]
     },
     "execution_count": 14,
     "metadata": {},
     "output_type": "execute_result"
    }
   ],
   "source": [
    "# Normalize the Close dataset since LSTM is very sensitive with outlier.\n",
    "from sklearn.preprocessing import MinMaxScaler\n",
    "\n",
    "dates = windowed_df_3_days[\"Target Date\"]\n",
    "# X = np.array(windowed_df[[\"Target-3\", \"Target-2\",\"Target-1\"]])\n",
    "X = np.array(windowed_df_3_days.iloc[:,1:-1])\n",
    "Y = windowed_df_3_days[\"Target\"]\n",
    "\n",
    "# Scale the data to the range [0, 1]\n",
    "scaler = MinMaxScaler()\n",
    "X = scaler.fit_transform(X)\n",
    "\n",
    "n_samples, n_features = X.shape\n",
    "n_time_steps = 1  # You can adjust this to your desired number of time steps\n",
    "\n",
    "X = X.reshape(n_samples, n_features,n_time_steps)\n",
    "\n",
    "X.shape, Y.shape, dates.shape"
   ]
  },
  {
   "cell_type": "markdown",
   "metadata": {},
   "source": [
    "### Splitting the data"
   ]
  },
  {
   "cell_type": "code",
   "execution_count": 15,
   "metadata": {
    "colab": {
     "base_uri": "https://localhost:8080/"
    },
    "id": "RlVPmAt3VHYy",
    "outputId": "2b9a3ed6-4022-4f09-9617-55ab6d470d89"
   },
   "outputs": [
    {
     "name": "stdout",
     "output_type": "stream",
     "text": [
      "Shapes are [(5691, 3, 1), (5691,), (1897, 3, 1), (1897,), (1897, 3, 1), (1897,)]\n"
     ]
    }
   ],
   "source": [
    "# Split the data into training , validationa and testing sets\n",
    "from sklearn.model_selection import train_test_split\n",
    "\n",
    "X_big_train, X_test, y_big_train, y_test = train_test_split(X,Y, test_size=0.2, shuffle = False,random_state=42)\n",
    "X_train, X_val, y_train, y_val = train_test_split(X_big_train,y_big_train, test_size=0.25,shuffle = False,random_state=42)\n",
    "\n",
    "print(f'Shapes are {[X_train.shape,y_train.shape,X_test.shape,y_test.shape,X_val.shape,y_val.shape]}')"
   ]
  },
  {
   "cell_type": "code",
   "execution_count": 16,
   "metadata": {
    "colab": {
     "base_uri": "https://localhost:8080/"
    },
    "id": "OLjH-6kaTkIy",
    "outputId": "c3f3a99b-dccd-4f11-9ec3-323ca701ce7d"
   },
   "outputs": [
    {
     "name": "stdout",
     "output_type": "stream",
     "text": [
      "Shapes are [(5691,), (1897,), (1897,)]\n"
     ]
    }
   ],
   "source": [
    "# Split the date according to X_train, X_val and X_test size\n",
    "\n",
    "# Calculate the corresponding indices for dates\n",
    "total_samples = len(dates)\n",
    "train_samples = len(X_train)\n",
    "val_samples = len(X_val)\n",
    "test_samples = len(X_test)\n",
    "\n",
    "# Calculate the indices\n",
    "train_indices = range(train_samples)\n",
    "val_indices = range(train_samples, train_samples + val_samples)\n",
    "test_indices = range(train_samples + val_samples, train_samples + val_samples + test_samples)\n",
    "\n",
    "# Extract dates for each split\n",
    "train_dates = dates[train_indices]\n",
    "val_dates = dates[val_indices]\n",
    "test_dates = dates[test_indices]\n",
    "\n",
    "print(f'Shapes are {[train_dates.shape,val_dates.shape,test_dates.shape]}')"
   ]
  },
  {
   "cell_type": "code",
   "execution_count": 17,
   "metadata": {
    "colab": {
     "base_uri": "https://localhost:8080/",
     "height": 430
    },
    "id": "U-JYRTvMSe0m",
    "outputId": "bc04f18a-3c82-4065-890c-633fa8ecd461"
   },
   "outputs": [
    {
     "data": {
      "image/png": "[encoded data removed]",
      "text/plain": [
       "<Figure size 432x288 with 1 Axes>"
      ]
     },
     "metadata": {
      "needs_background": "light"
     },
     "output_type": "display_data"
    }
   ],
   "source": [
    "plt.plot(train_dates,y_train)\n",
    "plt.plot(val_dates,y_val)\n",
    "plt.plot(test_dates,y_test)\n",
    "plt.legend(['Train', 'Validation', 'Test'])\n",
    "plt.show()"
   ]
  },
  {
   "cell_type": "markdown",
   "metadata": {},
   "source": [
    "### Building a Simple RNN"
   ]
  },
  {
   "cell_type": "code",
   "execution_count": 19,
   "metadata": {
    "colab": {
     "base_uri": "https://localhost:8080/",
     "height": 1000
    },
    "id": "h0ntlamBZDus",
    "outputId": "a4b5deb2-5084-4158-91b7-00f69d91c474"
   },
   "outputs": [
    {
     "name": "stdout",
     "output_type": "stream",
     "text": [
      "Epoch 1/50\n",
      "178/178 [==============================] - 1s 3ms/step - loss: 314.8002 - mean_absolute_error: 13.8276 - val_loss: 294.5423 - val_mean_absolute_error: 14.7617\n",
      "Epoch 2/50\n",
      "178/178 [==============================] - 0s 2ms/step - loss: 114.9655 - mean_absolute_error: 9.6472 - val_loss: 69.6225 - val_mean_absolute_error: 7.3494\n",
      "Epoch 3/50\n",
      "178/178 [==============================] - 0s 2ms/step - loss: 4.3060 - mean_absolute_error: 1.2098 - val_loss: 1.1932 - val_mean_absolute_error: 0.7660\n",
      "Epoch 4/50\n",
      "178/178 [==============================] - 0s 2ms/step - loss: 0.7265 - mean_absolute_error: 0.4764 - val_loss: 0.9320 - val_mean_absolute_error: 0.6760\n",
      "Epoch 5/50\n",
      "178/178 [==============================] - 0s 2ms/step - loss: 0.7048 - mean_absolute_error: 0.4676 - val_loss: 1.0061 - val_mean_absolute_error: 0.7237\n",
      "Epoch 6/50\n",
      "178/178 [==============================] - 0s 2ms/step - loss: 0.7260 - mean_absolute_error: 0.4938 - val_loss: 0.8951 - val_mean_absolute_error: 0.6672\n",
      "Epoch 7/50\n",
      "178/178 [==============================] - 0s 2ms/step - loss: 0.6891 - mean_absolute_error: 0.4593 - val_loss: 0.8667 - val_mean_absolute_error: 0.6571\n",
      "Epoch 8/50\n",
      "178/178 [==============================] - 0s 2ms/step - loss: 0.7283 - mean_absolute_error: 0.4979 - val_loss: 0.8768 - val_mean_absolute_error: 0.6602\n",
      "Epoch 9/50\n",
      "178/178 [==============================] - 0s 2ms/step - loss: 0.7091 - mean_absolute_error: 0.4845 - val_loss: 0.8272 - val_mean_absolute_error: 0.6381\n",
      "Epoch 10/50\n",
      "178/178 [==============================] - 0s 2ms/step - loss: 0.6979 - mean_absolute_error: 0.4679 - val_loss: 0.8403 - val_mean_absolute_error: 0.6496\n",
      "Epoch 11/50\n",
      "178/178 [==============================] - 0s 2ms/step - loss: 0.7073 - mean_absolute_error: 0.4872 - val_loss: 0.8389 - val_mean_absolute_error: 0.6452\n",
      "Epoch 12/50\n",
      "178/178 [==============================] - 1s 3ms/step - loss: 0.6946 - mean_absolute_error: 0.4691 - val_loss: 0.8769 - val_mean_absolute_error: 0.6678\n",
      "Epoch 13/50\n",
      "178/178 [==============================] - 1s 3ms/step - loss: 0.7042 - mean_absolute_error: 0.4756 - val_loss: 0.8577 - val_mean_absolute_error: 0.6507\n",
      "Epoch 14/50\n",
      "178/178 [==============================] - 0s 2ms/step - loss: 0.7118 - mean_absolute_error: 0.4918 - val_loss: 0.9288 - val_mean_absolute_error: 0.7007\n",
      "Epoch 15/50\n",
      "178/178 [==============================] - 0s 2ms/step - loss: 0.7316 - mean_absolute_error: 0.4987 - val_loss: 0.9082 - val_mean_absolute_error: 0.6785\n",
      "Epoch 16/50\n",
      "178/178 [==============================] - 0s 2ms/step - loss: 0.7078 - mean_absolute_error: 0.4825 - val_loss: 0.8682 - val_mean_absolute_error: 0.6659\n",
      "Epoch 17/50\n",
      "178/178 [==============================] - 0s 2ms/step - loss: 0.7491 - mean_absolute_error: 0.5175 - val_loss: 0.8236 - val_mean_absolute_error: 0.6368\n",
      "Epoch 18/50\n",
      "178/178 [==============================] - 0s 2ms/step - loss: 0.6993 - mean_absolute_error: 0.4737 - val_loss: 0.9091 - val_mean_absolute_error: 0.6895\n",
      "Epoch 19/50\n",
      "178/178 [==============================] - 0s 2ms/step - loss: 0.7117 - mean_absolute_error: 0.4811 - val_loss: 0.8229 - val_mean_absolute_error: 0.6395\n",
      "Epoch 20/50\n",
      "178/178 [==============================] - 0s 2ms/step - loss: 0.7452 - mean_absolute_error: 0.5116 - val_loss: 0.8753 - val_mean_absolute_error: 0.6633\n",
      "Epoch 21/50\n",
      "178/178 [==============================] - 0s 2ms/step - loss: 0.7286 - mean_absolute_error: 0.4963 - val_loss: 0.9046 - val_mean_absolute_error: 0.6875\n",
      "Epoch 22/50\n",
      "178/178 [==============================] - 0s 2ms/step - loss: 0.6988 - mean_absolute_error: 0.4679 - val_loss: 0.8902 - val_mean_absolute_error: 0.6693\n",
      "Epoch 23/50\n",
      "178/178 [==============================] - 0s 2ms/step - loss: 0.7093 - mean_absolute_error: 0.4755 - val_loss: 0.9695 - val_mean_absolute_error: 0.7108\n",
      "Epoch 24/50\n",
      "178/178 [==============================] - 0s 2ms/step - loss: 0.7032 - mean_absolute_error: 0.4723 - val_loss: 0.8337 - val_mean_absolute_error: 0.6450\n",
      "Epoch 25/50\n",
      "178/178 [==============================] - 0s 3ms/step - loss: 0.7335 - mean_absolute_error: 0.5109 - val_loss: 0.9001 - val_mean_absolute_error: 0.6780\n",
      "Epoch 26/50\n",
      "178/178 [==============================] - 0s 2ms/step - loss: 0.7116 - mean_absolute_error: 0.4813 - val_loss: 0.8597 - val_mean_absolute_error: 0.6527\n",
      "Epoch 27/50\n",
      "178/178 [==============================] - 0s 2ms/step - loss: 0.7076 - mean_absolute_error: 0.4798 - val_loss: 0.8205 - val_mean_absolute_error: 0.6379\n",
      "Epoch 28/50\n",
      "178/178 [==============================] - 0s 2ms/step - loss: 0.7069 - mean_absolute_error: 0.4757 - val_loss: 1.0657 - val_mean_absolute_error: 0.7720\n",
      "Epoch 29/50\n",
      "178/178 [==============================] - 0s 2ms/step - loss: 0.6989 - mean_absolute_error: 0.4716 - val_loss: 0.8736 - val_mean_absolute_error: 0.6707\n",
      "Epoch 30/50\n",
      "178/178 [==============================] - 0s 2ms/step - loss: 0.7134 - mean_absolute_error: 0.4939 - val_loss: 1.0961 - val_mean_absolute_error: 0.7798\n",
      "Epoch 31/50\n",
      "178/178 [==============================] - 0s 2ms/step - loss: 0.7060 - mean_absolute_error: 0.4753 - val_loss: 0.8418 - val_mean_absolute_error: 0.6498\n",
      "Epoch 32/50\n",
      "178/178 [==============================] - 0s 2ms/step - loss: 0.7123 - mean_absolute_error: 0.4827 - val_loss: 0.9335 - val_mean_absolute_error: 0.6944\n",
      "Epoch 33/50\n",
      "178/178 [==============================] - 0s 2ms/step - loss: 0.7020 - mean_absolute_error: 0.4769 - val_loss: 0.9940 - val_mean_absolute_error: 0.7224\n",
      "Epoch 34/50\n",
      "178/178 [==============================] - 0s 2ms/step - loss: 0.7233 - mean_absolute_error: 0.4985 - val_loss: 0.8477 - val_mean_absolute_error: 0.6557\n",
      "Epoch 35/50\n",
      "178/178 [==============================] - 0s 2ms/step - loss: 0.7105 - mean_absolute_error: 0.4784 - val_loss: 0.9752 - val_mean_absolute_error: 0.7275\n",
      "Epoch 36/50\n",
      "178/178 [==============================] - 0s 2ms/step - loss: 0.7228 - mean_absolute_error: 0.4977 - val_loss: 0.8344 - val_mean_absolute_error: 0.6448\n",
      "Epoch 37/50\n",
      "178/178 [==============================] - 0s 2ms/step - loss: 0.7172 - mean_absolute_error: 0.4892 - val_loss: 1.3671 - val_mean_absolute_error: 0.9164\n",
      "Epoch 38/50\n",
      "178/178 [==============================] - 0s 2ms/step - loss: 0.7297 - mean_absolute_error: 0.5013 - val_loss: 0.8342 - val_mean_absolute_error: 0.6469\n",
      "Epoch 39/50\n",
      "178/178 [==============================] - 0s 2ms/step - loss: 0.7073 - mean_absolute_error: 0.4755 - val_loss: 0.8587 - val_mean_absolute_error: 0.6593\n",
      "Epoch 40/50\n",
      "178/178 [==============================] - 0s 2ms/step - loss: 0.7796 - mean_absolute_error: 0.5405 - val_loss: 1.0550 - val_mean_absolute_error: 0.7662\n",
      "Epoch 41/50\n",
      "178/178 [==============================] - 0s 2ms/step - loss: 0.7028 - mean_absolute_error: 0.4722 - val_loss: 0.8324 - val_mean_absolute_error: 0.6397\n",
      "Epoch 42/50\n",
      "178/178 [==============================] - 0s 2ms/step - loss: 0.7208 - mean_absolute_error: 0.4854 - val_loss: 0.8368 - val_mean_absolute_error: 0.6432\n",
      "Epoch 43/50\n",
      "178/178 [==============================] - 0s 2ms/step - loss: 0.7075 - mean_absolute_error: 0.4840 - val_loss: 0.8560 - val_mean_absolute_error: 0.6484\n",
      "Epoch 44/50\n",
      "178/178 [==============================] - 0s 2ms/step - loss: 0.7191 - mean_absolute_error: 0.4893 - val_loss: 0.9097 - val_mean_absolute_error: 0.6855\n",
      "Epoch 45/50\n",
      "178/178 [==============================] - 0s 3ms/step - loss: 0.7145 - mean_absolute_error: 0.4782 - val_loss: 0.8371 - val_mean_absolute_error: 0.6416\n",
      "Epoch 46/50\n",
      "178/178 [==============================] - 0s 2ms/step - loss: 0.7093 - mean_absolute_error: 0.4722 - val_loss: 0.8909 - val_mean_absolute_error: 0.6805\n",
      "Epoch 47/50\n",
      "178/178 [==============================] - 0s 2ms/step - loss: 0.7031 - mean_absolute_error: 0.4723 - val_loss: 0.9311 - val_mean_absolute_error: 0.7037\n",
      "Epoch 48/50\n",
      "178/178 [==============================] - 0s 2ms/step - loss: 0.7222 - mean_absolute_error: 0.4888 - val_loss: 1.1767 - val_mean_absolute_error: 0.8293\n",
      "Epoch 49/50\n",
      "178/178 [==============================] - 0s 2ms/step - loss: 0.7007 - mean_absolute_error: 0.4675 - val_loss: 0.8722 - val_mean_absolute_error: 0.6627\n",
      "Epoch 50/50\n",
      "178/178 [==============================] - 0s 2ms/step - loss: 0.7732 - mean_absolute_error: 0.5338 - val_loss: 0.9342 - val_mean_absolute_error: 0.7023\n"
     ]
    },
    {
     "data": {
      "image/png": "[encoded data removed]",
      "text/plain": [
       "<Figure size 576x360 with 1 Axes>"
      ]
     },
     "metadata": {
      "needs_background": "light"
     },
     "output_type": "display_data"
    },
    {
     "name": "stdout",
     "output_type": "stream",
     "text": [
      "Test loss (Simple RNN): 3427.601806640625, mean absolute error (Simple RNN): 45.642826080322266\n"
     ]
    }
   ],
   "source": [
    "from keras.models import Sequential\n",
    "from keras.layers import SimpleRNN, Dense\n",
    "\n",
    "# Build the Simple RNN model\n",
    "model_rnn = Sequential()\n",
    "model_rnn.add(SimpleRNN(50, activation='relu', input_shape=(3, 1)))\n",
    "model_rnn.add(Dense(1))\n",
    "model_rnn.compile(optimizer=Adam(learning_rate=0.001), loss='mean_squared_error', metrics=['mean_absolute_error'])\n",
    "\n",
    "# Train the model\n",
    "history_rnn = model_rnn.fit(X_train, y_train, validation_data=(X_val, y_val), epochs=50, batch_size=32)\n",
    "\n",
    "# Plot the training history\n",
    "pd.DataFrame(history_rnn.history).plot(figsize=(8, 5))\n",
    "plt.show()\n",
    "\n",
    "# Evaluate the model on the test data\n",
    "loss_rnn, metric_value_rnn = model_rnn.evaluate(X_test, y_test, verbose=0)\n",
    "print(f\"Test loss (Simple RNN): {loss_rnn}, mean absolute error (Simple RNN): {metric_value_rnn}\")"
   ]
  },
  {
   "cell_type": "code",
   "execution_count": 20,
   "metadata": {
    "colab": {
     "base_uri": "https://localhost:8080/",
     "height": 534
    },
    "id": "jFQvfdVrZgjm",
    "outputId": "7c609bf4-14c7-4269-e733-0ac627d59915"
   },
   "outputs": [
    {
     "name": "stdout",
     "output_type": "stream",
     "text": [
      "60/60 [==============================] - 0s 1ms/step\n",
      "Mean Squared Error (MSE): 3427.601982777083\n",
      "Root Mean Squared Error (RMSE): 58.54572557221477\n",
      "Mean Absolute Error (MAE): 45.64282368826961\n",
      "R-squared: 0.6024390541025562\n"
     ]
    },
    {
     "data": {
      "text/plain": [
       "<matplotlib.legend.Legend at 0x2a532a16d30>"
      ]
     },
     "execution_count": 20,
     "metadata": {},
     "output_type": "execute_result"
    },
    {
     "data": {
      "image/png": "[encoded data removed]",
      "text/plain": [
       "<Figure size 432x288 with 1 Axes>"
      ]
     },
     "metadata": {
      "needs_background": "light"
     },
     "output_type": "display_data"
    }
   ],
   "source": [
    "from sklearn.metrics import mean_squared_error, mean_absolute_error, r2_score\n",
    "import numpy as np\n",
    "\n",
    "test_predictions = model_rnn.predict(X_test).flatten()\n",
    "\n",
    "# Calculate Mean Squared Error (MSE)\n",
    "mse = mean_squared_error(y_test,test_predictions)\n",
    "print(f'Mean Squared Error (MSE): {mse}')\n",
    "\n",
    "# Calculate Root Mean Squared Error (RMSE)\n",
    "rmse = np.sqrt(mse)\n",
    "print(f'Root Mean Squared Error (RMSE): {rmse}')\n",
    "\n",
    "# Calculate Mean Absolute Error (MAE)\n",
    "mae = mean_absolute_error(y_test,test_predictions)\n",
    "print(f'Mean Absolute Error (MAE): {mae}')\n",
    "\n",
    "# Calculate R-squared\n",
    "r2 = r2_score(y_test,test_predictions)\n",
    "print(f'R-squared: {r2}')\n",
    "\n",
    "plt.plot(test_dates, test_predictions)\n",
    "plt.plot(test_dates, y_test,alpha=0.5)\n",
    "plt.legend(['Testing Predictions', 'Testing Observations'])"
   ]
  },
  {
   "cell_type": "code",
   "execution_count": 21,
   "metadata": {
    "colab": {
     "base_uri": "https://localhost:8080/",
     "height": 534
    },
    "id": "vIKUC1CahCOY",
    "outputId": "72b590fc-6964-4331-cce2-eaa0bcc38913"
   },
   "outputs": [
    {
     "name": "stdout",
     "output_type": "stream",
     "text": [
      "60/60 [==============================] - 0s 1ms/step\n",
      "Mean Squared Error (MSE): 0.9342279657140895\n",
      "Root Mean Squared Error (RMSE): 0.9665546884238313\n",
      "Mean Absolute Error (MAE): 0.7023226121530488\n",
      "R-squared: 0.9899777554766429\n"
     ]
    },
    {
     "data": {
      "text/plain": [
       "<matplotlib.legend.Legend at 0x2a532bc6a90>"
      ]
     },
     "execution_count": 21,
     "metadata": {},
     "output_type": "execute_result"
    },
    {
     "data": {
      "image/png": "[encoded data removed]",
      "text/plain": [
       "<Figure size 432x288 with 1 Axes>"
      ]
     },
     "metadata": {
      "needs_background": "light"
     },
     "output_type": "display_data"
    }
   ],
   "source": [
    "val_predictions = model_rnn.predict(X_val).flatten()\n",
    "\n",
    "# Calculate Mean Squared Error (MSE)\n",
    "mse = mean_squared_error(y_val,val_predictions)\n",
    "print(f'Mean Squared Error (MSE): {mse}')\n",
    "\n",
    "# Calculate Root Mean Squared Error (RMSE)\n",
    "rmse = np.sqrt(mse)\n",
    "print(f'Root Mean Squared Error (RMSE): {rmse}')\n",
    "\n",
    "# Calculate Mean Absolute Error (MAE)\n",
    "mae = mean_absolute_error(y_val,val_predictions)\n",
    "print(f'Mean Absolute Error (MAE): {mae}')\n",
    "\n",
    "# Calculate R-squared\n",
    "r2 = r2_score(y_val,val_predictions)\n",
    "print(f'R-squared: {r2}')\n",
    "\n",
    "plt.plot(val_dates, val_predictions)\n",
    "plt.plot(val_dates, y_val)\n",
    "plt.legend(['Validation Predictions', 'Validation Observations'])"
   ]
  },
  {
   "cell_type": "code",
   "execution_count": 22,
   "metadata": {
    "colab": {
     "base_uri": "https://localhost:8080/",
     "height": 534
    },
    "id": "Sr1HyKh9hnDg",
    "outputId": "98fe5b76-51b1-48c0-dc3c-c4d4cfec44d0"
   },
   "outputs": [
    {
     "name": "stdout",
     "output_type": "stream",
     "text": [
      "178/178 [==============================] - 0s 876us/step\n",
      "Mean Squared Error (MSE): 0.7408805143127862\n",
      "Root Mean Squared Error (RMSE): 0.8607441631012006\n",
      "Mean Absolute Error (MAE): 0.5409966159345038\n",
      "R-squared: 0.9964369261180863\n"
     ]
    },
    {
     "data": {
      "text/plain": [
       "<matplotlib.legend.Legend at 0x2a532c29b50>"
      ]
     },
     "execution_count": 22,
     "metadata": {},
     "output_type": "execute_result"
    },
    {
     "data": {
      "image/png": "[encoded data removed]",
      "text/plain": [
       "<Figure size 432x288 with 1 Axes>"
      ]
     },
     "metadata": {
      "needs_background": "light"
     },
     "output_type": "display_data"
    }
   ],
   "source": [
    "train_predictions = model_rnn.predict(X_train).flatten()\n",
    "\n",
    "# Calculate Mean Squared Error (MSE)\n",
    "mse = mean_squared_error(y_train,train_predictions)\n",
    "print(f'Mean Squared Error (MSE): {mse}')\n",
    "\n",
    "# Calculate Root Mean Squared Error (RMSE)\n",
    "rmse = np.sqrt(mse)\n",
    "print(f'Root Mean Squared Error (RMSE): {rmse}')\n",
    "\n",
    "# Calculate Mean Absolute Error (MAE)\n",
    "mae = mean_absolute_error(y_train,train_predictions)\n",
    "print(f'Mean Absolute Error (MAE): {mae}')\n",
    "\n",
    "# Calculate R-squared\n",
    "r2 = r2_score(y_train,train_predictions)\n",
    "print(f'R-squared: {r2}')\n",
    "\n",
    "plt.plot(train_dates, train_predictions)\n",
    "plt.plot(train_dates, y_train)\n",
    "plt.legend(['Training Predictions', 'Training Observations'])"
   ]
  },
  {
   "cell_type": "markdown",
   "metadata": {},
   "source": [
    "### Building  a Vanilla LSTM "
   ]
  },
  {
   "cell_type": "code",
   "execution_count": 24,
   "metadata": {
    "colab": {
     "base_uri": "https://localhost:8080/",
     "height": 1000
    },
    "id": "PPuLrXDSYrFx",
    "outputId": "4de27105-7136-4cc1-c34b-29ec8b2b1a48"
   },
   "outputs": [
    {
     "name": "stdout",
     "output_type": "stream",
     "text": [
      "Epoch 1/50\n",
      "178/178 [==============================] - 1s 3ms/step - loss: 339.0699 - mean_absolute_error: 13.9831 - val_loss: 221.9512 - val_mean_absolute_error: 12.4597\n",
      "Epoch 2/50\n",
      "178/178 [==============================] - 0s 2ms/step - loss: 131.7521 - mean_absolute_error: 10.5068 - val_loss: 141.4085 - val_mean_absolute_error: 10.1668\n",
      "Epoch 3/50\n",
      "178/178 [==============================] - 1s 3ms/step - loss: 64.5362 - mean_absolute_error: 7.2246 - val_loss: 19.8237 - val_mean_absolute_error: 3.9900\n",
      "Epoch 4/50\n",
      "178/178 [==============================] - 0s 2ms/step - loss: 12.3708 - mean_absolute_error: 2.9680 - val_loss: 10.3661 - val_mean_absolute_error: 2.2504\n",
      "Epoch 5/50\n",
      "178/178 [==============================] - 0s 2ms/step - loss: 3.6602 - mean_absolute_error: 1.4440 - val_loss: 5.8271 - val_mean_absolute_error: 1.7426\n",
      "Epoch 6/50\n",
      "178/178 [==============================] - 0s 2ms/step - loss: 1.8418 - mean_absolute_error: 0.9429 - val_loss: 2.4835 - val_mean_absolute_error: 1.1179\n",
      "Epoch 7/50\n",
      "178/178 [==============================] - 0s 2ms/step - loss: 1.0655 - mean_absolute_error: 0.6764 - val_loss: 1.2072 - val_mean_absolute_error: 0.7980\n",
      "Epoch 8/50\n",
      "178/178 [==============================] - 0s 2ms/step - loss: 0.7859 - mean_absolute_error: 0.5442 - val_loss: 0.9177 - val_mean_absolute_error: 0.6688\n",
      "Epoch 9/50\n",
      "178/178 [==============================] - 0s 3ms/step - loss: 0.7164 - mean_absolute_error: 0.5025 - val_loss: 0.8557 - val_mean_absolute_error: 0.6421\n",
      "Epoch 10/50\n",
      "178/178 [==============================] - 0s 2ms/step - loss: 0.6908 - mean_absolute_error: 0.4772 - val_loss: 0.8257 - val_mean_absolute_error: 0.6349\n",
      "Epoch 11/50\n",
      "178/178 [==============================] - 0s 2ms/step - loss: 0.6786 - mean_absolute_error: 0.4694 - val_loss: 0.8131 - val_mean_absolute_error: 0.6330\n",
      "Epoch 12/50\n",
      "178/178 [==============================] - 1s 3ms/step - loss: 0.6701 - mean_absolute_error: 0.4588 - val_loss: 0.8123 - val_mean_absolute_error: 0.6310\n",
      "Epoch 13/50\n",
      "178/178 [==============================] - 1s 3ms/step - loss: 0.6705 - mean_absolute_error: 0.4561 - val_loss: 0.7971 - val_mean_absolute_error: 0.6262\n",
      "Epoch 14/50\n",
      "178/178 [==============================] - 0s 3ms/step - loss: 0.6852 - mean_absolute_error: 0.4715 - val_loss: 0.7952 - val_mean_absolute_error: 0.6249\n",
      "Epoch 15/50\n",
      "178/178 [==============================] - 1s 3ms/step - loss: 0.6641 - mean_absolute_error: 0.4498 - val_loss: 0.8621 - val_mean_absolute_error: 0.6596\n",
      "Epoch 16/50\n",
      "178/178 [==============================] - 1s 3ms/step - loss: 0.6688 - mean_absolute_error: 0.4612 - val_loss: 0.7874 - val_mean_absolute_error: 0.6203\n",
      "Epoch 17/50\n",
      "178/178 [==============================] - 0s 2ms/step - loss: 0.6695 - mean_absolute_error: 0.4531 - val_loss: 0.8300 - val_mean_absolute_error: 0.6414\n",
      "Epoch 18/50\n",
      "178/178 [==============================] - 0s 2ms/step - loss: 0.6660 - mean_absolute_error: 0.4536 - val_loss: 0.7963 - val_mean_absolute_error: 0.6277\n",
      "Epoch 19/50\n",
      "178/178 [==============================] - 0s 2ms/step - loss: 0.6775 - mean_absolute_error: 0.4753 - val_loss: 0.7903 - val_mean_absolute_error: 0.6211\n",
      "Epoch 20/50\n",
      "178/178 [==============================] - 0s 2ms/step - loss: 0.6636 - mean_absolute_error: 0.4562 - val_loss: 0.7982 - val_mean_absolute_error: 0.6318\n",
      "Epoch 21/50\n",
      "178/178 [==============================] - 0s 3ms/step - loss: 0.6736 - mean_absolute_error: 0.4682 - val_loss: 0.8107 - val_mean_absolute_error: 0.6377\n",
      "Epoch 22/50\n",
      "178/178 [==============================] - 0s 3ms/step - loss: 0.7111 - mean_absolute_error: 0.4976 - val_loss: 0.7890 - val_mean_absolute_error: 0.6262\n",
      "Epoch 23/50\n",
      "178/178 [==============================] - 0s 3ms/step - loss: 0.6891 - mean_absolute_error: 0.4892 - val_loss: 0.7943 - val_mean_absolute_error: 0.6263\n",
      "Epoch 24/50\n",
      "178/178 [==============================] - 1s 3ms/step - loss: 0.6912 - mean_absolute_error: 0.4838 - val_loss: 0.7937 - val_mean_absolute_error: 0.6264\n",
      "Epoch 25/50\n",
      "178/178 [==============================] - 0s 3ms/step - loss: 0.6892 - mean_absolute_error: 0.4817 - val_loss: 0.7817 - val_mean_absolute_error: 0.6216\n",
      "Epoch 26/50\n",
      "178/178 [==============================] - 1s 4ms/step - loss: 0.6681 - mean_absolute_error: 0.4566 - val_loss: 0.8057 - val_mean_absolute_error: 0.6356\n",
      "Epoch 27/50\n",
      "178/178 [==============================] - 1s 3ms/step - loss: 0.6735 - mean_absolute_error: 0.4669 - val_loss: 0.7872 - val_mean_absolute_error: 0.6225\n",
      "Epoch 28/50\n",
      "178/178 [==============================] - 0s 3ms/step - loss: 0.6710 - mean_absolute_error: 0.4719 - val_loss: 0.7920 - val_mean_absolute_error: 0.6251\n",
      "Epoch 29/50\n",
      "178/178 [==============================] - 1s 3ms/step - loss: 0.6688 - mean_absolute_error: 0.4570 - val_loss: 0.7809 - val_mean_absolute_error: 0.6198\n",
      "Epoch 30/50\n",
      "178/178 [==============================] - 0s 3ms/step - loss: 0.6799 - mean_absolute_error: 0.4716 - val_loss: 0.8147 - val_mean_absolute_error: 0.6404\n",
      "Epoch 31/50\n",
      "178/178 [==============================] - 0s 3ms/step - loss: 0.6709 - mean_absolute_error: 0.4630 - val_loss: 0.8239 - val_mean_absolute_error: 0.6429\n",
      "Epoch 32/50\n",
      "178/178 [==============================] - 1s 3ms/step - loss: 0.6954 - mean_absolute_error: 0.4840 - val_loss: 0.8632 - val_mean_absolute_error: 0.6671\n",
      "Epoch 33/50\n",
      "178/178 [==============================] - 0s 3ms/step - loss: 0.6721 - mean_absolute_error: 0.4620 - val_loss: 0.8054 - val_mean_absolute_error: 0.6335\n",
      "Epoch 34/50\n",
      "178/178 [==============================] - 0s 2ms/step - loss: 0.6710 - mean_absolute_error: 0.4571 - val_loss: 0.8171 - val_mean_absolute_error: 0.6386\n",
      "Epoch 35/50\n",
      "178/178 [==============================] - 0s 2ms/step - loss: 0.6726 - mean_absolute_error: 0.4658 - val_loss: 0.7791 - val_mean_absolute_error: 0.6198\n",
      "Epoch 36/50\n",
      "178/178 [==============================] - 1s 3ms/step - loss: 0.6639 - mean_absolute_error: 0.4499 - val_loss: 0.9074 - val_mean_absolute_error: 0.6939\n",
      "Epoch 37/50\n",
      "178/178 [==============================] - 0s 3ms/step - loss: 0.6970 - mean_absolute_error: 0.4894 - val_loss: 0.7944 - val_mean_absolute_error: 0.6297\n",
      "Epoch 38/50\n",
      "178/178 [==============================] - 0s 3ms/step - loss: 0.6671 - mean_absolute_error: 0.4593 - val_loss: 1.1342 - val_mean_absolute_error: 0.8134\n",
      "Epoch 39/50\n",
      "178/178 [==============================] - 0s 3ms/step - loss: 0.6797 - mean_absolute_error: 0.4782 - val_loss: 0.7860 - val_mean_absolute_error: 0.6245\n",
      "Epoch 40/50\n",
      "178/178 [==============================] - 1s 3ms/step - loss: 0.6775 - mean_absolute_error: 0.4711 - val_loss: 0.9070 - val_mean_absolute_error: 0.6982\n",
      "Epoch 41/50\n",
      "178/178 [==============================] - 0s 2ms/step - loss: 0.6708 - mean_absolute_error: 0.4749 - val_loss: 0.8811 - val_mean_absolute_error: 0.6810\n",
      "Epoch 42/50\n",
      "178/178 [==============================] - 0s 2ms/step - loss: 0.6793 - mean_absolute_error: 0.4830 - val_loss: 0.7878 - val_mean_absolute_error: 0.6235\n",
      "Epoch 43/50\n",
      "178/178 [==============================] - 0s 2ms/step - loss: 0.6727 - mean_absolute_error: 0.4709 - val_loss: 0.8209 - val_mean_absolute_error: 0.6433\n",
      "Epoch 44/50\n",
      "178/178 [==============================] - 0s 2ms/step - loss: 0.6627 - mean_absolute_error: 0.4615 - val_loss: 0.7931 - val_mean_absolute_error: 0.6275\n",
      "Epoch 45/50\n",
      "178/178 [==============================] - 0s 2ms/step - loss: 0.6836 - mean_absolute_error: 0.4718 - val_loss: 1.1461 - val_mean_absolute_error: 0.8194\n",
      "Epoch 46/50\n",
      "178/178 [==============================] - 0s 2ms/step - loss: 0.6611 - mean_absolute_error: 0.4572 - val_loss: 0.7870 - val_mean_absolute_error: 0.6243\n",
      "Epoch 47/50\n",
      "178/178 [==============================] - 0s 2ms/step - loss: 0.6606 - mean_absolute_error: 0.4546 - val_loss: 0.8152 - val_mean_absolute_error: 0.6425\n",
      "Epoch 48/50\n",
      "178/178 [==============================] - 0s 2ms/step - loss: 0.6778 - mean_absolute_error: 0.4693 - val_loss: 0.7949 - val_mean_absolute_error: 0.6285\n",
      "Epoch 49/50\n",
      "178/178 [==============================] - 0s 2ms/step - loss: 0.6668 - mean_absolute_error: 0.4689 - val_loss: 0.7966 - val_mean_absolute_error: 0.6291\n",
      "Epoch 50/50\n",
      "178/178 [==============================] - 0s 2ms/step - loss: 0.6929 - mean_absolute_error: 0.4824 - val_loss: 0.9903 - val_mean_absolute_error: 0.7401\n"
     ]
    },
    {
     "data": {
      "image/png": "[encoded data removed]",
      "text/plain": [
       "<Figure size 576x360 with 1 Axes>"
      ]
     },
     "metadata": {
      "needs_background": "light"
     },
     "output_type": "display_data"
    },
    {
     "name": "stdout",
     "output_type": "stream",
     "text": [
      "Test loss: 4438.9384765625, mean absolute error: 46.955718994140625\n"
     ]
    }
   ],
   "source": [
    "# Build the Vanilla LSTM model\n",
    "\n",
    "model_1 = keras.Sequential()\n",
    "model_1.add(layers.LSTM(50, activation='relu', input_shape=(3, 1)))\n",
    "model_1.add(layers.Dense(1))\n",
    "model_1.compile(optimizer=Adam(learning_rate=0.001), loss='mean_squared_error',metrics=['mean_absolute_error'])\n",
    "\n",
    "# Train the model\n",
    "history = model_1.fit(X_train, y_train,validation_data=(X_val, y_val), epochs=50, batch_size=32)\n",
    "\n",
    "# Simple way to plot the history information (see later for more detail)\n",
    "pd.DataFrame(history.history).plot(figsize=(8 , 5))\n",
    "plt.show()\n",
    "\n",
    "# Now run the model on the test set and get results (loss and mean absolute error on the test data both reported)\n",
    "# Evaluate the model on the test data\n",
    "loss, metric_value = model_1.evaluate(X_test, y_test, verbose=0)\n",
    "print(f\"Test loss: {loss}, mean absolute error: {metric_value}\")\n",
    "\n"
   ]
  },
  {
   "cell_type": "code",
   "execution_count": 25,
   "metadata": {
    "colab": {
     "base_uri": "https://localhost:8080/",
     "height": 534
    },
    "id": "8wtgwgBtXalq",
    "outputId": "28fada66-325f-48a6-b831-5793e2986876"
   },
   "outputs": [
    {
     "name": "stdout",
     "output_type": "stream",
     "text": [
      "60/60 [==============================] - 0s 2ms/step\n",
      "Mean Squared Error (MSE): 4438.938398646731\n",
      "Root Mean Squared Error (RMSE): 66.62535852546485\n",
      "Mean Absolute Error (MAE): 46.95572506178445\n",
      "R-squared: 0.4851360929845596\n"
     ]
    },
    {
     "data": {
      "text/plain": [
       "<matplotlib.legend.Legend at 0x2a536124b50>"
      ]
     },
     "execution_count": 25,
     "metadata": {},
     "output_type": "execute_result"
    },
    {
     "data": {
      "image/png": "[encoded data removed]",
      "text/plain": [
       "<Figure size 432x288 with 1 Axes>"
      ]
     },
     "metadata": {
      "needs_background": "light"
     },
     "output_type": "display_data"
    }
   ],
   "source": [
    "test_predictions = model_1.predict(X_test).flatten()\n",
    "\n",
    "# Calculate Mean Squared Error (MSE)\n",
    "mse = mean_squared_error(y_test,test_predictions)\n",
    "print(f'Mean Squared Error (MSE): {mse}')\n",
    "\n",
    "# Calculate Root Mean Squared Error (RMSE)\n",
    "rmse = np.sqrt(mse)\n",
    "print(f'Root Mean Squared Error (RMSE): {rmse}')\n",
    "\n",
    "# Calculate Mean Absolute Error (MAE)\n",
    "mae = mean_absolute_error(y_test,test_predictions)\n",
    "print(f'Mean Absolute Error (MAE): {mae}')\n",
    "\n",
    "# Calculate R-squared\n",
    "r2 = r2_score(y_test,test_predictions)\n",
    "print(f'R-squared: {r2}')\n",
    "\n",
    "plt.plot(test_dates, test_predictions)\n",
    "plt.plot(test_dates, y_test,alpha=0.5)\n",
    "plt.legend(['Testing Predictions', 'Testing Observations'])"
   ]
  },
  {
   "cell_type": "markdown",
   "metadata": {
    "id": "nhuNSRwDc5PL"
   },
   "source": [
    "### Building a Stacked LSTM "
   ]
  },
  {
   "cell_type": "code",
   "execution_count": 27,
   "metadata": {
    "colab": {
     "base_uri": "https://localhost:8080/",
     "height": 1000
    },
    "id": "UmHeMc3LdITe",
    "outputId": "b19edede-8f9f-4084-971b-a53cf071a349"
   },
   "outputs": [
    {
     "name": "stdout",
     "output_type": "stream",
     "text": [
      "Epoch 1/50\n",
      "178/178 [==============================] - 3s 6ms/step - loss: 287.2137 - mean_absolute_error: 13.2594 - val_loss: 180.3518 - val_mean_absolute_error: 11.3152\n",
      "Epoch 2/50\n",
      "178/178 [==============================] - 1s 4ms/step - loss: 63.4692 - mean_absolute_error: 6.7970 - val_loss: 7.0791 - val_mean_absolute_error: 2.2662\n",
      "Epoch 3/50\n",
      "178/178 [==============================] - 1s 4ms/step - loss: 3.3387 - mean_absolute_error: 1.3968 - val_loss: 2.7076 - val_mean_absolute_error: 1.3260\n",
      "Epoch 4/50\n",
      "178/178 [==============================] - 1s 5ms/step - loss: 1.1002 - mean_absolute_error: 0.7215 - val_loss: 1.0111 - val_mean_absolute_error: 0.7313\n",
      "Epoch 5/50\n",
      "178/178 [==============================] - 1s 3ms/step - loss: 0.7555 - mean_absolute_error: 0.5564 - val_loss: 0.9623 - val_mean_absolute_error: 0.6933\n",
      "Epoch 6/50\n",
      "178/178 [==============================] - 1s 4ms/step - loss: 0.6908 - mean_absolute_error: 0.5050 - val_loss: 0.8520 - val_mean_absolute_error: 0.6526\n",
      "Epoch 7/50\n",
      "178/178 [==============================] - 1s 3ms/step - loss: 0.7107 - mean_absolute_error: 0.5228 - val_loss: 0.7888 - val_mean_absolute_error: 0.6288\n",
      "Epoch 8/50\n",
      "178/178 [==============================] - 1s 3ms/step - loss: 0.6733 - mean_absolute_error: 0.4879 - val_loss: 0.9417 - val_mean_absolute_error: 0.7030\n",
      "Epoch 9/50\n",
      "178/178 [==============================] - 1s 3ms/step - loss: 0.6612 - mean_absolute_error: 0.4786 - val_loss: 0.7871 - val_mean_absolute_error: 0.6290\n",
      "Epoch 10/50\n",
      "178/178 [==============================] - 1s 4ms/step - loss: 0.6809 - mean_absolute_error: 0.5027 - val_loss: 0.9167 - val_mean_absolute_error: 0.6910\n",
      "Epoch 11/50\n",
      "178/178 [==============================] - 1s 4ms/step - loss: 0.7081 - mean_absolute_error: 0.5140 - val_loss: 0.8402 - val_mean_absolute_error: 0.6653\n",
      "Epoch 12/50\n",
      "178/178 [==============================] - 1s 4ms/step - loss: 0.6818 - mean_absolute_error: 0.4956 - val_loss: 0.7664 - val_mean_absolute_error: 0.6136\n",
      "Epoch 13/50\n",
      "178/178 [==============================] - 1s 4ms/step - loss: 0.6839 - mean_absolute_error: 0.5072 - val_loss: 0.9431 - val_mean_absolute_error: 0.7278\n",
      "Epoch 14/50\n",
      "178/178 [==============================] - 1s 4ms/step - loss: 0.6898 - mean_absolute_error: 0.4992 - val_loss: 0.7913 - val_mean_absolute_error: 0.6267\n",
      "Epoch 15/50\n",
      "178/178 [==============================] - 1s 4ms/step - loss: 0.7114 - mean_absolute_error: 0.5265 - val_loss: 1.4587 - val_mean_absolute_error: 0.9601\n",
      "Epoch 16/50\n",
      "178/178 [==============================] - 1s 4ms/step - loss: 0.7080 - mean_absolute_error: 0.5188 - val_loss: 0.7893 - val_mean_absolute_error: 0.6307\n",
      "Epoch 17/50\n",
      "178/178 [==============================] - 1s 4ms/step - loss: 0.7024 - mean_absolute_error: 0.5152 - val_loss: 0.7833 - val_mean_absolute_error: 0.6208\n",
      "Epoch 18/50\n",
      "178/178 [==============================] - 1s 4ms/step - loss: 0.6699 - mean_absolute_error: 0.4875 - val_loss: 0.7671 - val_mean_absolute_error: 0.6166\n",
      "Epoch 19/50\n",
      "178/178 [==============================] - 1s 4ms/step - loss: 0.6569 - mean_absolute_error: 0.4803 - val_loss: 0.7608 - val_mean_absolute_error: 0.6062\n",
      "Epoch 20/50\n",
      "178/178 [==============================] - 1s 4ms/step - loss: 0.6690 - mean_absolute_error: 0.4912 - val_loss: 1.0545 - val_mean_absolute_error: 0.7799\n",
      "Epoch 21/50\n",
      "178/178 [==============================] - 1s 4ms/step - loss: 0.7132 - mean_absolute_error: 0.5217 - val_loss: 0.8603 - val_mean_absolute_error: 0.6649\n",
      "Epoch 22/50\n",
      "178/178 [==============================] - 1s 4ms/step - loss: 0.6798 - mean_absolute_error: 0.5076 - val_loss: 0.7573 - val_mean_absolute_error: 0.6080\n",
      "Epoch 23/50\n",
      "178/178 [==============================] - 1s 4ms/step - loss: 0.7502 - mean_absolute_error: 0.5476 - val_loss: 0.7864 - val_mean_absolute_error: 0.6249\n",
      "Epoch 24/50\n",
      "178/178 [==============================] - 1s 4ms/step - loss: 0.6737 - mean_absolute_error: 0.4937 - val_loss: 0.7604 - val_mean_absolute_error: 0.6130\n",
      "Epoch 25/50\n",
      "178/178 [==============================] - 1s 4ms/step - loss: 0.6828 - mean_absolute_error: 0.4929 - val_loss: 0.7850 - val_mean_absolute_error: 0.6224\n",
      "Epoch 26/50\n",
      "178/178 [==============================] - 1s 4ms/step - loss: 0.6871 - mean_absolute_error: 0.5106 - val_loss: 1.3599 - val_mean_absolute_error: 0.9277\n",
      "Epoch 27/50\n",
      "178/178 [==============================] - 1s 4ms/step - loss: 0.6675 - mean_absolute_error: 0.4808 - val_loss: 0.7493 - val_mean_absolute_error: 0.6069\n",
      "Epoch 28/50\n",
      "178/178 [==============================] - 1s 4ms/step - loss: 0.6721 - mean_absolute_error: 0.4896 - val_loss: 0.8649 - val_mean_absolute_error: 0.6711\n",
      "Epoch 29/50\n",
      "178/178 [==============================] - 1s 4ms/step - loss: 0.6956 - mean_absolute_error: 0.5028 - val_loss: 0.7439 - val_mean_absolute_error: 0.6039\n",
      "Epoch 30/50\n",
      "178/178 [==============================] - 1s 4ms/step - loss: 0.6751 - mean_absolute_error: 0.4954 - val_loss: 1.1096 - val_mean_absolute_error: 0.7922\n",
      "Epoch 31/50\n",
      "178/178 [==============================] - 1s 4ms/step - loss: 0.7193 - mean_absolute_error: 0.5298 - val_loss: 0.9785 - val_mean_absolute_error: 0.7291\n",
      "Epoch 32/50\n",
      "178/178 [==============================] - 1s 4ms/step - loss: 0.7187 - mean_absolute_error: 0.5280 - val_loss: 0.8475 - val_mean_absolute_error: 0.6681\n",
      "Epoch 33/50\n",
      "178/178 [==============================] - 1s 5ms/step - loss: 0.6808 - mean_absolute_error: 0.4973 - val_loss: 0.7514 - val_mean_absolute_error: 0.6090\n",
      "Epoch 34/50\n",
      "178/178 [==============================] - 1s 4ms/step - loss: 0.6675 - mean_absolute_error: 0.4904 - val_loss: 0.8647 - val_mean_absolute_error: 0.6789\n",
      "Epoch 35/50\n",
      "178/178 [==============================] - 1s 4ms/step - loss: 0.6626 - mean_absolute_error: 0.4708 - val_loss: 0.7784 - val_mean_absolute_error: 0.6323\n",
      "Epoch 36/50\n",
      "178/178 [==============================] - 1s 4ms/step - loss: 0.6732 - mean_absolute_error: 0.4989 - val_loss: 0.8454 - val_mean_absolute_error: 0.6751\n",
      "Epoch 37/50\n",
      "178/178 [==============================] - 1s 4ms/step - loss: 0.6899 - mean_absolute_error: 0.5055 - val_loss: 0.7758 - val_mean_absolute_error: 0.6243\n",
      "Epoch 38/50\n",
      "178/178 [==============================] - 1s 3ms/step - loss: 0.6554 - mean_absolute_error: 0.4761 - val_loss: 0.7936 - val_mean_absolute_error: 0.6294\n",
      "Epoch 39/50\n",
      "178/178 [==============================] - 1s 3ms/step - loss: 0.7020 - mean_absolute_error: 0.5186 - val_loss: 0.7373 - val_mean_absolute_error: 0.6020\n",
      "Epoch 40/50\n",
      "178/178 [==============================] - 1s 3ms/step - loss: 0.6683 - mean_absolute_error: 0.4889 - val_loss: 0.7327 - val_mean_absolute_error: 0.5987\n",
      "Epoch 41/50\n",
      "178/178 [==============================] - 1s 4ms/step - loss: 0.6761 - mean_absolute_error: 0.4941 - val_loss: 0.8506 - val_mean_absolute_error: 0.6717\n",
      "Epoch 42/50\n",
      "178/178 [==============================] - 1s 4ms/step - loss: 0.6646 - mean_absolute_error: 0.4887 - val_loss: 0.7398 - val_mean_absolute_error: 0.6063\n",
      "Epoch 43/50\n",
      "178/178 [==============================] - 1s 4ms/step - loss: 0.6606 - mean_absolute_error: 0.4878 - val_loss: 0.7309 - val_mean_absolute_error: 0.5967\n",
      "Epoch 44/50\n",
      "178/178 [==============================] - 1s 4ms/step - loss: 0.6686 - mean_absolute_error: 0.4914 - val_loss: 0.7263 - val_mean_absolute_error: 0.5934\n",
      "Epoch 45/50\n",
      "178/178 [==============================] - 1s 3ms/step - loss: 0.6594 - mean_absolute_error: 0.4900 - val_loss: 0.9392 - val_mean_absolute_error: 0.7202\n",
      "Epoch 46/50\n",
      "178/178 [==============================] - 1s 4ms/step - loss: 0.7352 - mean_absolute_error: 0.5529 - val_loss: 0.7734 - val_mean_absolute_error: 0.6238\n",
      "Epoch 47/50\n",
      "178/178 [==============================] - 1s 4ms/step - loss: 0.6443 - mean_absolute_error: 0.4739 - val_loss: 1.1317 - val_mean_absolute_error: 0.8166\n",
      "Epoch 48/50\n",
      "178/178 [==============================] - 1s 3ms/step - loss: 0.6876 - mean_absolute_error: 0.5084 - val_loss: 0.7474 - val_mean_absolute_error: 0.6087\n",
      "Epoch 49/50\n",
      "178/178 [==============================] - 1s 4ms/step - loss: 0.6747 - mean_absolute_error: 0.4954 - val_loss: 0.8916 - val_mean_absolute_error: 0.6951\n",
      "Epoch 50/50\n",
      "178/178 [==============================] - 1s 5ms/step - loss: 0.6757 - mean_absolute_error: 0.4959 - val_loss: 0.7897 - val_mean_absolute_error: 0.6325\n"
     ]
    },
    {
     "data": {
      "image/png": "[encoded data removed]",
      "text/plain": [
       "<Figure size 576x360 with 1 Axes>"
      ]
     },
     "metadata": {
      "needs_background": "light"
     },
     "output_type": "display_data"
    },
    {
     "name": "stdout",
     "output_type": "stream",
     "text": [
      "Test loss: 3659.713134765625, mean absolute error: 41.04133224487305\n"
     ]
    }
   ],
   "source": [
    " # Build the Stacked LSTM model 3 days time stamps\n",
    "model_2 = keras.Sequential()\n",
    "model_2.add(layers.LSTM(50, activation='relu',return_sequences=True, input_shape=(3, 1)))\n",
    "model_2.add(layers.LSTM(50, activation='relu', input_shape=(3, 1)))\n",
    "model_2.add(layers.Dense(1))\n",
    "model_2.compile(optimizer=Adam(learning_rate=0.001), loss='mean_squared_error',metrics=['mean_absolute_error'])\n",
    "\n",
    "# Train the model\n",
    "history = model_2.fit(X_train, y_train,validation_data=(X_val, y_val), epochs=50, batch_size=32)\n",
    "\n",
    "# Simple way to plot the history information (see later for more detail)\n",
    "pd.DataFrame(history.history).plot(figsize=(8 , 5))\n",
    "plt.show()\n",
    "\n",
    "# Now run the model on the test set and get results (loss and mean absolute error on the test data both reported)\n",
    "# Evaluate the model on the test data\n",
    "loss, metric_value = model_2.evaluate(X_test, y_test, verbose=0)\n",
    "print(f\"Test loss: {loss}, mean absolute error: {metric_value}\")"
   ]
  },
  {
   "cell_type": "code",
   "execution_count": 28,
   "metadata": {
    "colab": {
     "base_uri": "https://localhost:8080/",
     "height": 534
    },
    "id": "B-JDGjeWdQip",
    "outputId": "01c47280-d5ab-4636-cbd5-ac5c78a6a814"
   },
   "outputs": [
    {
     "name": "stdout",
     "output_type": "stream",
     "text": [
      "60/60 [==============================] - 0s 2ms/step\n",
      "Mean Squared Error (MSE): 3659.7128474648243\n",
      "Root Mean Squared Error (RMSE): 60.49556055996857\n",
      "Mean Absolute Error (MAE): 41.04133076795972\n",
      "R-squared: 0.5755169623947064\n"
     ]
    },
    {
     "data": {
      "text/plain": [
       "<matplotlib.legend.Legend at 0x2a53a823610>"
      ]
     },
     "execution_count": 28,
     "metadata": {},
     "output_type": "execute_result"
    },
    {
     "data": {
      "image/png": "[encoded data removed]",
      "text/plain": [
       "<Figure size 432x288 with 1 Axes>"
      ]
     },
     "metadata": {
      "needs_background": "light"
     },
     "output_type": "display_data"
    }
   ],
   "source": [
    "test_predictions = model_2.predict(X_test).flatten()\n",
    "\n",
    "# Calculate Mean Squared Error (MSE)\n",
    "mse = mean_squared_error(y_test,test_predictions)\n",
    "print(f'Mean Squared Error (MSE): {mse}')\n",
    "\n",
    "# Calculate Root Mean Squared Error (RMSE)\n",
    "rmse = np.sqrt(mse)\n",
    "print(f'Root Mean Squared Error (RMSE): {rmse}')\n",
    "\n",
    "# Calculate Mean Absolute Error (MAE)\n",
    "mae = mean_absolute_error(y_test,test_predictions)\n",
    "print(f'Mean Absolute Error (MAE): {mae}')\n",
    "\n",
    "# Calculate R-squared\n",
    "r2 = r2_score(y_test,test_predictions)\n",
    "print(f'R-squared: {r2}')\n",
    "\n",
    "plt.plot(test_dates, test_predictions)\n",
    "plt.plot(test_dates, y_test,alpha=0.5)\n",
    "plt.legend(['Testing Predictions', 'Testing Observations'])"
   ]
  },
  {
   "cell_type": "markdown",
   "metadata": {
    "id": "7uQptH26e3_k"
   },
   "source": [
    "### Building a GRU "
   ]
  },
  {
   "cell_type": "code",
   "execution_count": 30,
   "metadata": {
    "colab": {
     "base_uri": "https://localhost:8080/",
     "height": 1000
    },
    "id": "uiM6rF7We4tn",
    "outputId": "7cc8a59e-7c72-4dbf-a2bb-792e6618b180"
   },
   "outputs": [
    {
     "name": "stdout",
     "output_type": "stream",
     "text": [
      "Epoch 1/50\n",
      "178/178 [==============================] - 2s 5ms/step - loss: 339.3445 - mean_absolute_error: 14.1944 - val_loss: 277.0318 - val_mean_absolute_error: 14.1217\n",
      "Epoch 2/50\n",
      "178/178 [==============================] - 1s 3ms/step - loss: 146.0595 - mean_absolute_error: 11.1090 - val_loss: 205.9038 - val_mean_absolute_error: 12.7496\n",
      "Epoch 3/50\n",
      "178/178 [==============================] - 0s 3ms/step - loss: 36.1688 - mean_absolute_error: 4.7407 - val_loss: 1.7153 - val_mean_absolute_error: 1.0037\n",
      "Epoch 4/50\n",
      "178/178 [==============================] - 1s 4ms/step - loss: 1.1597 - mean_absolute_error: 0.7761 - val_loss: 1.4782 - val_mean_absolute_error: 0.8869\n",
      "Epoch 5/50\n",
      "178/178 [==============================] - 1s 3ms/step - loss: 1.0164 - mean_absolute_error: 0.7118 - val_loss: 0.9705 - val_mean_absolute_error: 0.7109\n",
      "Epoch 6/50\n",
      "178/178 [==============================] - 0s 2ms/step - loss: 0.8660 - mean_absolute_error: 0.6364 - val_loss: 0.8712 - val_mean_absolute_error: 0.6640\n",
      "Epoch 7/50\n",
      "178/178 [==============================] - 0s 2ms/step - loss: 0.8135 - mean_absolute_error: 0.6019 - val_loss: 0.8530 - val_mean_absolute_error: 0.6682\n",
      "Epoch 8/50\n",
      "178/178 [==============================] - 1s 4ms/step - loss: 0.7649 - mean_absolute_error: 0.5685 - val_loss: 0.8063 - val_mean_absolute_error: 0.6339\n",
      "Epoch 9/50\n",
      "178/178 [==============================] - 1s 3ms/step - loss: 0.7339 - mean_absolute_error: 0.5436 - val_loss: 0.9526 - val_mean_absolute_error: 0.7061\n",
      "Epoch 10/50\n",
      "178/178 [==============================] - 1s 4ms/step - loss: 0.7146 - mean_absolute_error: 0.5236 - val_loss: 0.9246 - val_mean_absolute_error: 0.6837\n",
      "Epoch 11/50\n",
      "178/178 [==============================] - 0s 3ms/step - loss: 0.7275 - mean_absolute_error: 0.5313 - val_loss: 0.8429 - val_mean_absolute_error: 0.6441\n",
      "Epoch 12/50\n",
      "178/178 [==============================] - 1s 3ms/step - loss: 0.7370 - mean_absolute_error: 0.5380 - val_loss: 1.2070 - val_mean_absolute_error: 0.8257\n",
      "Epoch 13/50\n",
      "178/178 [==============================] - 0s 2ms/step - loss: 0.7231 - mean_absolute_error: 0.5208 - val_loss: 0.8974 - val_mean_absolute_error: 0.6637\n",
      "Epoch 14/50\n",
      "178/178 [==============================] - 0s 2ms/step - loss: 0.7180 - mean_absolute_error: 0.5216 - val_loss: 0.8748 - val_mean_absolute_error: 0.6716\n",
      "Epoch 15/50\n",
      "178/178 [==============================] - 1s 3ms/step - loss: 0.7340 - mean_absolute_error: 0.5344 - val_loss: 0.9106 - val_mean_absolute_error: 0.6709\n",
      "Epoch 16/50\n",
      "178/178 [==============================] - 0s 2ms/step - loss: 0.7665 - mean_absolute_error: 0.5527 - val_loss: 0.8939 - val_mean_absolute_error: 0.6620\n",
      "Epoch 17/50\n",
      "178/178 [==============================] - 1s 3ms/step - loss: 0.7023 - mean_absolute_error: 0.5053 - val_loss: 1.0591 - val_mean_absolute_error: 0.7406\n",
      "Epoch 18/50\n",
      "178/178 [==============================] - 0s 3ms/step - loss: 0.7910 - mean_absolute_error: 0.5667 - val_loss: 0.8995 - val_mean_absolute_error: 0.6640\n",
      "Epoch 19/50\n",
      "178/178 [==============================] - 0s 2ms/step - loss: 0.7016 - mean_absolute_error: 0.5007 - val_loss: 0.9972 - val_mean_absolute_error: 0.7079\n",
      "Epoch 20/50\n",
      "178/178 [==============================] - 1s 3ms/step - loss: 0.7826 - mean_absolute_error: 0.5748 - val_loss: 1.5685 - val_mean_absolute_error: 0.9828\n",
      "Epoch 21/50\n",
      "178/178 [==============================] - 0s 3ms/step - loss: 0.7349 - mean_absolute_error: 0.5346 - val_loss: 0.8676 - val_mean_absolute_error: 0.6515\n",
      "Epoch 22/50\n",
      "178/178 [==============================] - 0s 3ms/step - loss: 0.7070 - mean_absolute_error: 0.5081 - val_loss: 0.8605 - val_mean_absolute_error: 0.6606\n",
      "Epoch 23/50\n",
      "178/178 [==============================] - 0s 3ms/step - loss: 0.7080 - mean_absolute_error: 0.5182 - val_loss: 0.9427 - val_mean_absolute_error: 0.7144\n",
      "Epoch 24/50\n",
      "178/178 [==============================] - 0s 2ms/step - loss: 0.7381 - mean_absolute_error: 0.5324 - val_loss: 1.0386 - val_mean_absolute_error: 0.7338\n",
      "Epoch 25/50\n",
      "178/178 [==============================] - 0s 2ms/step - loss: 0.7168 - mean_absolute_error: 0.5190 - val_loss: 0.8438 - val_mean_absolute_error: 0.6535\n",
      "Epoch 26/50\n",
      "178/178 [==============================] - 0s 2ms/step - loss: 0.7330 - mean_absolute_error: 0.5320 - val_loss: 1.2958 - val_mean_absolute_error: 0.9079\n",
      "Epoch 27/50\n",
      "178/178 [==============================] - 0s 2ms/step - loss: 0.7646 - mean_absolute_error: 0.5535 - val_loss: 1.7074 - val_mean_absolute_error: 1.0552\n",
      "Epoch 28/50\n",
      "178/178 [==============================] - 0s 2ms/step - loss: 0.7195 - mean_absolute_error: 0.5185 - val_loss: 1.2423 - val_mean_absolute_error: 0.8336\n",
      "Epoch 29/50\n",
      "178/178 [==============================] - 0s 3ms/step - loss: 0.6936 - mean_absolute_error: 0.4981 - val_loss: 0.8600 - val_mean_absolute_error: 0.6490\n",
      "Epoch 30/50\n",
      "178/178 [==============================] - 0s 2ms/step - loss: 0.7226 - mean_absolute_error: 0.5234 - val_loss: 0.8187 - val_mean_absolute_error: 0.6405\n",
      "Epoch 31/50\n",
      "178/178 [==============================] - 0s 3ms/step - loss: 0.7536 - mean_absolute_error: 0.5478 - val_loss: 0.8417 - val_mean_absolute_error: 0.6434\n",
      "Epoch 32/50\n",
      "178/178 [==============================] - 1s 3ms/step - loss: 0.7080 - mean_absolute_error: 0.5057 - val_loss: 0.8315 - val_mean_absolute_error: 0.6434\n",
      "Epoch 33/50\n",
      "178/178 [==============================] - 1s 3ms/step - loss: 0.7090 - mean_absolute_error: 0.5054 - val_loss: 0.8670 - val_mean_absolute_error: 0.6539\n",
      "Epoch 34/50\n",
      "178/178 [==============================] - 0s 2ms/step - loss: 0.7028 - mean_absolute_error: 0.5052 - val_loss: 0.8901 - val_mean_absolute_error: 0.6616\n",
      "Epoch 35/50\n",
      "178/178 [==============================] - 0s 2ms/step - loss: 0.7049 - mean_absolute_error: 0.5037 - val_loss: 0.8880 - val_mean_absolute_error: 0.6793\n",
      "Epoch 36/50\n",
      "178/178 [==============================] - 1s 3ms/step - loss: 0.7000 - mean_absolute_error: 0.5033 - val_loss: 0.9176 - val_mean_absolute_error: 0.6769\n",
      "Epoch 37/50\n",
      "178/178 [==============================] - 0s 3ms/step - loss: 0.7570 - mean_absolute_error: 0.5546 - val_loss: 1.3042 - val_mean_absolute_error: 0.8679\n",
      "Epoch 38/50\n",
      "178/178 [==============================] - 0s 2ms/step - loss: 0.7170 - mean_absolute_error: 0.5112 - val_loss: 0.8785 - val_mean_absolute_error: 0.6824\n",
      "Epoch 39/50\n",
      "178/178 [==============================] - 1s 3ms/step - loss: 0.7116 - mean_absolute_error: 0.5191 - val_loss: 1.1014 - val_mean_absolute_error: 0.7703\n",
      "Epoch 40/50\n",
      "178/178 [==============================] - 0s 3ms/step - loss: 0.7058 - mean_absolute_error: 0.5074 - val_loss: 0.8250 - val_mean_absolute_error: 0.6427\n",
      "Epoch 41/50\n",
      "178/178 [==============================] - 1s 3ms/step - loss: 0.6995 - mean_absolute_error: 0.5089 - val_loss: 0.8363 - val_mean_absolute_error: 0.6399\n",
      "Epoch 42/50\n",
      "178/178 [==============================] - 0s 3ms/step - loss: 0.6988 - mean_absolute_error: 0.5004 - val_loss: 0.9373 - val_mean_absolute_error: 0.7166\n",
      "Epoch 43/50\n",
      "178/178 [==============================] - 0s 3ms/step - loss: 0.7063 - mean_absolute_error: 0.5053 - val_loss: 0.9422 - val_mean_absolute_error: 0.6941\n",
      "Epoch 44/50\n",
      "178/178 [==============================] - 0s 3ms/step - loss: 0.6817 - mean_absolute_error: 0.4821 - val_loss: 1.0314 - val_mean_absolute_error: 0.7309\n",
      "Epoch 45/50\n",
      "178/178 [==============================] - 1s 3ms/step - loss: 0.7169 - mean_absolute_error: 0.5226 - val_loss: 0.7916 - val_mean_absolute_error: 0.6220\n",
      "Epoch 46/50\n",
      "178/178 [==============================] - 0s 3ms/step - loss: 0.7295 - mean_absolute_error: 0.5362 - val_loss: 1.0812 - val_mean_absolute_error: 0.7706\n",
      "Epoch 47/50\n",
      "178/178 [==============================] - 0s 2ms/step - loss: 0.6938 - mean_absolute_error: 0.4996 - val_loss: 1.0760 - val_mean_absolute_error: 0.7635\n",
      "Epoch 48/50\n",
      "178/178 [==============================] - 1s 3ms/step - loss: 0.6854 - mean_absolute_error: 0.4909 - val_loss: 1.0358 - val_mean_absolute_error: 0.7499\n",
      "Epoch 49/50\n",
      "178/178 [==============================] - 1s 3ms/step - loss: 0.7004 - mean_absolute_error: 0.5077 - val_loss: 1.1517 - val_mean_absolute_error: 0.8117\n",
      "Epoch 50/50\n",
      "178/178 [==============================] - 0s 2ms/step - loss: 0.6982 - mean_absolute_error: 0.5070 - val_loss: 0.9155 - val_mean_absolute_error: 0.6837\n"
     ]
    },
    {
     "data": {
      "image/png": "[encoded data removed]",
      "text/plain": [
       "<Figure size 576x360 with 1 Axes>"
      ]
     },
     "metadata": {
      "needs_background": "light"
     },
     "output_type": "display_data"
    },
    {
     "name": "stdout",
     "output_type": "stream",
     "text": [
      "Test loss (GRU): 2028.6446533203125, mean absolute error (GRU): 33.140846252441406\n"
     ]
    }
   ],
   "source": [
    "# Build the GRU model\n",
    "model_gru = keras.Sequential()\n",
    "model_gru.add(layers.GRU(50, activation='relu', input_shape=(3, 1)))\n",
    "model_gru.add(layers.Dense(1))\n",
    "model_gru.compile(optimizer=Adam(learning_rate=0.001), loss='mean_squared_error', metrics=['mean_absolute_error'])\n",
    "\n",
    "# Train the model\n",
    "history_gru = model_gru.fit(X_train, y_train, validation_data=(X_val, y_val), epochs=50, batch_size=32)\n",
    "\n",
    "# Plot the training history\n",
    "pd.DataFrame(history_gru.history).plot(figsize=(8, 5))\n",
    "plt.show()\n",
    "\n",
    "# Evaluate the model on the test data\n",
    "loss_gru, metric_value_gru = model_gru.evaluate(X_test, y_test, verbose=0)\n",
    "print(f\"Test loss (GRU): {loss_gru}, mean absolute error (GRU): {metric_value_gru}\")\n"
   ]
  },
  {
   "cell_type": "code",
   "execution_count": 31,
   "metadata": {
    "colab": {
     "base_uri": "https://localhost:8080/",
     "height": 538
    },
    "id": "aK37AlIihZhP",
    "outputId": "0716b345-b990-4cea-cbab-acbb27cde57e"
   },
   "outputs": [
    {
     "name": "stdout",
     "output_type": "stream",
     "text": [
      "60/60 [==============================] - 0s 2ms/step\n",
      "Mean Squared Error (MSE): 2028.6447862709613\n",
      "Root Mean Squared Error (RMSE): 45.04047941875132\n",
      "Mean Absolute Error (MAE): 33.14084687890908\n",
      "R-squared: 0.7647014022712294\n"
     ]
    },
    {
     "data": {
      "text/plain": [
       "<matplotlib.legend.Legend at 0x2a53a5f06a0>"
      ]
     },
     "execution_count": 31,
     "metadata": {},
     "output_type": "execute_result"
    },
    {
     "data": {
      "image/png": "[encoded data removed]",
      "text/plain": [
       "<Figure size 432x288 with 1 Axes>"
      ]
     },
     "metadata": {
      "needs_background": "light"
     },
     "output_type": "display_data"
    }
   ],
   "source": [
    "test_predictions = model_gru.predict(X_test).flatten()\n",
    "\n",
    "# Calculate Mean Squared Error (MSE)\n",
    "mse = mean_squared_error(y_test,test_predictions)\n",
    "print(f'Mean Squared Error (MSE): {mse}')\n",
    "\n",
    "# Calculate Root Mean Squared Error (RMSE)\n",
    "rmse = np.sqrt(mse)\n",
    "print(f'Root Mean Squared Error (RMSE): {rmse}')\n",
    "\n",
    "# Calculate Mean Absolute Error (MAE)\n",
    "mae = mean_absolute_error(y_test,test_predictions)\n",
    "print(f'Mean Absolute Error (MAE): {mae}')\n",
    "\n",
    "# Calculate R-squared\n",
    "r2 = r2_score(y_test,test_predictions)\n",
    "print(f'R-squared: {r2}')\n",
    "\n",
    "plt.plot(test_dates, test_predictions)\n",
    "plt.plot(test_dates, y_test,alpha=0.5)\n",
    "plt.legend(['Testing Predictions', 'Testing Observations'])"
   ]
  },
  {
   "cell_type": "code",
   "execution_count": null,
   "metadata": {
    "id": "g-ZziRQRRmoE"
   },
   "outputs": [],
   "source": [
    "\n",
    "# As we used the testing data, the model could not predict that good. the testing data predictions is overestimate the observation. It looks like the Vanilla LSTM Model did not\n",
    "# predict well on the extrapolating. the model predict well on the value up to 50 as we can see both on training and validation. the model did not do well when on testing because the value to predict right now is above 50 hence the model did\n",
    "# not learn well or understand the data. the model cannot extrapolate outside it range as in training and validation set they ha e the save range ie from 0-50 but not in testing above. hence it failed to extrapolate becauce in testing the data range it outside\n",
    "# learnable range.\n",
    "# we can see right here the value from 1970 until 2016, is not really helpful when predicting on testing set because there is not pattern to learn as the value in testing set started to change a lot and it was too high.\n",
    "\n",
    "# Looking at the training and validation sets, the model appears to perform exceptionally well. The low values of MSE, RMSE, and MAE, along with a high R-squared value, suggest that the model accurately captures the patterns within the data during training and performs well on the validation set.\n",
    "\n",
    "# However, the testing set results tell a different story. The significantly higher values for MSE, RMSE, and MAE, along with a negative R-squared value, indicate that the model struggles when extrapolating beyond the range it has learned during training and validation. The paragraph you provided explains this discrepancy by pointing out that the testing data introduces new patterns and a wider range of values that the model did not encounter during training.\n",
    "\n",
    "# # to improve this model, perhaps we can take the timeline where it started to failed to extrapolate which is from 2019 and above. perhaps we can train and validate and testing on this range ie from 2019 onwards since it got all the pattern to learn\n",
    "#"
   ]
  },
  {
   "cell_type": "markdown",
   "metadata": {},
   "source": [
    "### Make a window time stamp of 3 days with 2019 to 2023 range of data"
   ]
  },
  {
   "cell_type": "code",
   "execution_count": 32,
   "metadata": {
    "id": "gDE6XNV7ifbg"
   },
   "outputs": [
    {
     "data": {
      "text/html": [
       "<div>\n",
       "<style scoped>\n",
       "    .dataframe tbody tr th:only-of-type {\n",
       "        vertical-align: middle;\n",
       "    }\n",
       "\n",
       "    .dataframe tbody tr th {\n",
       "        vertical-align: top;\n",
       "    }\n",
       "\n",
       "    .dataframe thead th {\n",
       "        text-align: right;\n",
       "    }\n",
       "</style>\n",
       "<table border=\"1\" class=\"dataframe\">\n",
       "  <thead>\n",
       "    <tr style=\"text-align: right;\">\n",
       "      <th></th>\n",
       "      <th>Target Date</th>\n",
       "      <th>Target-3</th>\n",
       "      <th>Target-2</th>\n",
       "      <th>Target-1</th>\n",
       "      <th>Target</th>\n",
       "    </tr>\n",
       "  </thead>\n",
       "  <tbody>\n",
       "    <tr>\n",
       "      <th>0</th>\n",
       "      <td>2019-03-19</td>\n",
       "      <td>114.589996</td>\n",
       "      <td>115.910004</td>\n",
       "      <td>117.570000</td>\n",
       "      <td>117.650002</td>\n",
       "    </tr>\n",
       "    <tr>\n",
       "      <th>1</th>\n",
       "      <td>2019-03-20</td>\n",
       "      <td>115.910004</td>\n",
       "      <td>117.570000</td>\n",
       "      <td>117.650002</td>\n",
       "      <td>117.519997</td>\n",
       "    </tr>\n",
       "    <tr>\n",
       "      <th>2</th>\n",
       "      <td>2019-03-21</td>\n",
       "      <td>117.570000</td>\n",
       "      <td>117.650002</td>\n",
       "      <td>117.519997</td>\n",
       "      <td>120.220001</td>\n",
       "    </tr>\n",
       "    <tr>\n",
       "      <th>3</th>\n",
       "      <td>2019-03-22</td>\n",
       "      <td>117.650002</td>\n",
       "      <td>117.519997</td>\n",
       "      <td>120.220001</td>\n",
       "      <td>117.050003</td>\n",
       "    </tr>\n",
       "    <tr>\n",
       "      <th>4</th>\n",
       "      <td>2019-03-25</td>\n",
       "      <td>117.519997</td>\n",
       "      <td>120.220001</td>\n",
       "      <td>117.050003</td>\n",
       "      <td>117.660004</td>\n",
       "    </tr>\n",
       "    <tr>\n",
       "      <th>...</th>\n",
       "      <td>...</td>\n",
       "      <td>...</td>\n",
       "      <td>...</td>\n",
       "      <td>...</td>\n",
       "      <td>...</td>\n",
       "    </tr>\n",
       "    <tr>\n",
       "      <th>1163</th>\n",
       "      <td>2023-10-30</td>\n",
       "      <td>340.670013</td>\n",
       "      <td>327.890015</td>\n",
       "      <td>329.809998</td>\n",
       "      <td>337.309998</td>\n",
       "    </tr>\n",
       "    <tr>\n",
       "      <th>1164</th>\n",
       "      <td>2023-10-31</td>\n",
       "      <td>327.890015</td>\n",
       "      <td>329.809998</td>\n",
       "      <td>337.309998</td>\n",
       "      <td>338.109985</td>\n",
       "    </tr>\n",
       "    <tr>\n",
       "      <th>1165</th>\n",
       "      <td>2023-11-01</td>\n",
       "      <td>329.809998</td>\n",
       "      <td>337.309998</td>\n",
       "      <td>338.109985</td>\n",
       "      <td>346.070007</td>\n",
       "    </tr>\n",
       "    <tr>\n",
       "      <th>1166</th>\n",
       "      <td>2023-11-02</td>\n",
       "      <td>337.309998</td>\n",
       "      <td>338.109985</td>\n",
       "      <td>346.070007</td>\n",
       "      <td>348.320007</td>\n",
       "    </tr>\n",
       "    <tr>\n",
       "      <th>1167</th>\n",
       "      <td>2023-11-03</td>\n",
       "      <td>338.109985</td>\n",
       "      <td>346.070007</td>\n",
       "      <td>348.320007</td>\n",
       "      <td>352.799988</td>\n",
       "    </tr>\n",
       "  </tbody>\n",
       "</table>\n",
       "<p>1168 rows × 5 columns</p>\n",
       "</div>"
      ],
      "text/plain": [
       "     Target Date    Target-3    Target-2    Target-1      Target\n",
       "0     2019-03-19  114.589996  115.910004  117.570000  117.650002\n",
       "1     2019-03-20  115.910004  117.570000  117.650002  117.519997\n",
       "2     2019-03-21  117.570000  117.650002  117.519997  120.220001\n",
       "3     2019-03-22  117.650002  117.519997  120.220001  117.050003\n",
       "4     2019-03-25  117.519997  120.220001  117.050003  117.660004\n",
       "...          ...         ...         ...         ...         ...\n",
       "1163  2023-10-30  340.670013  327.890015  329.809998  337.309998\n",
       "1164  2023-10-31  327.890015  329.809998  337.309998  338.109985\n",
       "1165  2023-11-01  329.809998  337.309998  338.109985  346.070007\n",
       "1166  2023-11-02  337.309998  338.109985  346.070007  348.320007\n",
       "1167  2023-11-03  338.109985  346.070007  348.320007  352.799988\n",
       "\n",
       "[1168 rows x 5 columns]"
      ]
     },
     "execution_count": 32,
     "metadata": {},
     "output_type": "execute_result"
    }
   ],
   "source": [
    "# Window timestamp of 3 days - perhaps this can be modified to make it more predictor variables\n",
    "def df_to_windowed_df(dataframe, first_date_str, last_date_str, n=3):\n",
    "  first_date = pd.to_datetime(first_date_str)\n",
    "  last_date  = pd.to_datetime(last_date_str)\n",
    "\n",
    "  target_date = first_date\n",
    "\n",
    "  dates = []\n",
    "  X, Y = [], []\n",
    "\n",
    "  last_time = False\n",
    "  while True:\n",
    "    df_subset = dataframe.loc[:target_date].tail(n+1)\n",
    "\n",
    "    if len(df_subset) != n+1:\n",
    "      print(f'Error: Window of size {n} is too large for date {target_date}')\n",
    "      return\n",
    "\n",
    "    values = df_subset['Close'].to_numpy()\n",
    "    x, y = values[:-1], values[-1]\n",
    "\n",
    "    dates.append(target_date)\n",
    "    X.append(x)\n",
    "    Y.append(y)\n",
    "\n",
    "    next_week = dataframe.loc[target_date:target_date+datetime.timedelta(days=7)]\n",
    "    next_datetime_str = str(next_week.head(2).tail(1).index.values[0])\n",
    "    next_date_str = next_datetime_str.split('T')[0]\n",
    "    year_month_day = next_date_str.split('-')\n",
    "    year, month, day = year_month_day\n",
    "    next_date = datetime.datetime(day=int(day), month=int(month), year=int(year))\n",
    "\n",
    "    if last_time:\n",
    "      break\n",
    "\n",
    "    target_date = next_date\n",
    "\n",
    "    if target_date == last_date:\n",
    "      last_time = True\n",
    "\n",
    "  ret_df = pd.DataFrame({})\n",
    "  ret_df['Target Date'] = dates\n",
    "\n",
    "  X = np.array(X)\n",
    "  for i in range(0, n):\n",
    "    X[:, i]\n",
    "    ret_df[f'Target-{n-i}'] = X[:, i]\n",
    "\n",
    "  ret_df['Target'] = Y\n",
    "\n",
    "  return ret_df\n",
    "\n",
    "# Start day second time around: '2019-03-19'\n",
    "windowed_df_3_days = df_to_windowed_df(microsoft_df,\n",
    "                                '2019-03-19',\n",
    "                                '2023-11-03',\n",
    "                                n=3)\n",
    "windowed_df_3_days"
   ]
  },
  {
   "cell_type": "code",
   "execution_count": 33,
   "metadata": {
    "id": "Y_jgLD14i2P-"
   },
   "outputs": [
    {
     "data": {
      "text/plain": [
       "((1168, 3, 1), (1168,), (1168,))"
      ]
     },
     "execution_count": 33,
     "metadata": {},
     "output_type": "execute_result"
    }
   ],
   "source": [
    "# Normalize the Close dataset since LSTM is very sensitive with outlier.\n",
    "\n",
    "dates = windowed_df_3_days[\"Target Date\"]\n",
    "# X = np.array(windowed_df[[\"Target-3\", \"Target-2\",\"Target-1\"]])\n",
    "X = np.array(windowed_df_3_days.iloc[:,1:-1])\n",
    "Y = windowed_df_3_days[\"Target\"]\n",
    "\n",
    "# Scale the data to the range [0, 1]\n",
    "scaler = MinMaxScaler()\n",
    "X = scaler.fit_transform(X)\n",
    "\n",
    "n_samples, n_features = X.shape\n",
    "n_time_steps = 1  # You can adjust this to your desired number of time steps\n",
    "\n",
    "X = X.reshape(n_samples, n_features,n_time_steps)\n",
    "\n",
    "X.shape, Y.shape, dates.shape"
   ]
  },
  {
   "cell_type": "code",
   "execution_count": 34,
   "metadata": {
    "id": "XpVcm7lvi2P_"
   },
   "outputs": [
    {
     "name": "stdout",
     "output_type": "stream",
     "text": [
      "Shapes are [(700, 3, 1), (700,), (234, 3, 1), (234,), (234, 3, 1), (234,)]\n"
     ]
    }
   ],
   "source": [
    "# Split the data into training and testing sets\n",
    "\n",
    "X_big_train, X_test, y_big_train, y_test = train_test_split(X,Y, test_size=0.2, shuffle = False)\n",
    "X_train, X_val, y_train, y_val = train_test_split(X_big_train,y_big_train, test_size=0.25,shuffle = False)\n",
    "\n",
    "print(f'Shapes are {[X_train.shape,y_train.shape,X_test.shape,y_test.shape,X_val.shape,y_val.shape]}')"
   ]
  },
  {
   "cell_type": "code",
   "execution_count": 35,
   "metadata": {
    "id": "H5rw8yi0i2P_"
   },
   "outputs": [
    {
     "name": "stdout",
     "output_type": "stream",
     "text": [
      "Shapes are [(700,), (234,), (234,)]\n"
     ]
    }
   ],
   "source": [
    "# Split the date according to X_train, X_val and X_test size\n",
    "\n",
    "# Calculate the corresponding indices for dates\n",
    "total_samples = len(dates)\n",
    "train_samples = len(X_train)\n",
    "val_samples = len(X_val)\n",
    "test_samples = len(X_test)\n",
    "\n",
    "# Calculate the indices\n",
    "train_indices = range(train_samples)\n",
    "val_indices = range(train_samples, train_samples + val_samples)\n",
    "test_indices = range(train_samples + val_samples, train_samples + val_samples + test_samples)\n",
    "\n",
    "# Extract dates for each split\n",
    "train_dates = dates[train_indices]\n",
    "val_dates = dates[val_indices]\n",
    "test_dates = dates[test_indices]\n",
    "\n",
    "print(f'Shapes are {[train_dates.shape,val_dates.shape,test_dates.shape]}')"
   ]
  },
  {
   "cell_type": "code",
   "execution_count": 36,
   "metadata": {
    "id": "ZueqGUwIi2P_"
   },
   "outputs": [
    {
     "data": {
      "image/png": "[encoded data removed]",
      "text/plain": [
       "<Figure size 432x288 with 1 Axes>"
      ]
     },
     "metadata": {
      "needs_background": "light"
     },
     "output_type": "display_data"
    }
   ],
   "source": [
    "plt.plot(train_dates,y_train)\n",
    "plt.plot(val_dates,y_val)\n",
    "plt.plot(test_dates,y_test)\n",
    "plt.legend(['Train', 'Validation', 'Test'])\n",
    "plt.show()"
   ]
  },
  {
   "cell_type": "code",
   "execution_count": 37,
   "metadata": {
    "id": "auiUwvMfig3k"
   },
   "outputs": [
    {
     "name": "stdout",
     "output_type": "stream",
     "text": [
      "Epoch 1/50\n",
      "22/22 [==============================] - 0s 4ms/step - loss: 3391.5640 - mean_absolute_error: 48.5230 - val_loss: 643.9481 - val_mean_absolute_error: 21.3602\n",
      "Epoch 2/50\n",
      "22/22 [==============================] - 0s 3ms/step - loss: 660.6809 - mean_absolute_error: 22.2452 - val_loss: 911.8887 - val_mean_absolute_error: 26.9038\n",
      "Epoch 3/50\n",
      "22/22 [==============================] - 0s 3ms/step - loss: 289.0436 - mean_absolute_error: 14.4283 - val_loss: 223.7995 - val_mean_absolute_error: 12.0192\n",
      "Epoch 4/50\n",
      "22/22 [==============================] - 0s 3ms/step - loss: 170.5014 - mean_absolute_error: 10.9702 - val_loss: 175.2865 - val_mean_absolute_error: 10.5566\n",
      "Epoch 5/50\n",
      "22/22 [==============================] - 0s 3ms/step - loss: 114.1237 - mean_absolute_error: 8.9504 - val_loss: 213.8254 - val_mean_absolute_error: 11.8038\n",
      "Epoch 6/50\n",
      "22/22 [==============================] - 0s 3ms/step - loss: 80.4511 - mean_absolute_error: 7.4479 - val_loss: 146.4987 - val_mean_absolute_error: 9.6401\n",
      "Epoch 7/50\n",
      "22/22 [==============================] - 0s 4ms/step - loss: 61.1950 - mean_absolute_error: 6.4626 - val_loss: 148.6769 - val_mean_absolute_error: 9.7104\n",
      "Epoch 8/50\n",
      "22/22 [==============================] - 0s 4ms/step - loss: 49.0884 - mean_absolute_error: 5.6218 - val_loss: 121.4766 - val_mean_absolute_error: 8.7856\n",
      "Epoch 9/50\n",
      "22/22 [==============================] - 0s 4ms/step - loss: 41.6276 - mean_absolute_error: 5.1365 - val_loss: 119.4167 - val_mean_absolute_error: 8.7010\n",
      "Epoch 10/50\n",
      "22/22 [==============================] - 0s 4ms/step - loss: 36.1765 - mean_absolute_error: 4.6896 - val_loss: 118.2078 - val_mean_absolute_error: 8.6526\n",
      "Epoch 11/50\n",
      "22/22 [==============================] - 0s 5ms/step - loss: 33.3088 - mean_absolute_error: 4.4077 - val_loss: 106.0965 - val_mean_absolute_error: 8.2484\n",
      "Epoch 12/50\n",
      "22/22 [==============================] - 0s 3ms/step - loss: 31.0263 - mean_absolute_error: 4.1972 - val_loss: 107.2087 - val_mean_absolute_error: 8.2796\n",
      "Epoch 13/50\n",
      "22/22 [==============================] - 0s 3ms/step - loss: 29.7381 - mean_absolute_error: 4.0566 - val_loss: 100.7332 - val_mean_absolute_error: 8.0530\n",
      "Epoch 14/50\n",
      "22/22 [==============================] - 0s 3ms/step - loss: 28.7002 - mean_absolute_error: 3.9289 - val_loss: 95.5746 - val_mean_absolute_error: 7.8770\n",
      "Epoch 15/50\n",
      "22/22 [==============================] - 0s 4ms/step - loss: 28.5614 - mean_absolute_error: 3.9316 - val_loss: 96.4766 - val_mean_absolute_error: 7.9030\n",
      "Epoch 16/50\n",
      "22/22 [==============================] - 0s 4ms/step - loss: 27.9254 - mean_absolute_error: 3.8361 - val_loss: 92.1032 - val_mean_absolute_error: 7.7475\n",
      "Epoch 17/50\n",
      "22/22 [==============================] - 0s 4ms/step - loss: 27.8173 - mean_absolute_error: 3.8269 - val_loss: 96.0225 - val_mean_absolute_error: 7.8823\n",
      "Epoch 18/50\n",
      "22/22 [==============================] - 0s 4ms/step - loss: 27.5442 - mean_absolute_error: 3.7866 - val_loss: 92.3823 - val_mean_absolute_error: 7.7564\n",
      "Epoch 19/50\n",
      "22/22 [==============================] - 0s 3ms/step - loss: 27.5196 - mean_absolute_error: 3.8209 - val_loss: 95.9048 - val_mean_absolute_error: 7.8749\n",
      "Epoch 20/50\n",
      "22/22 [==============================] - 0s 3ms/step - loss: 28.1564 - mean_absolute_error: 3.8455 - val_loss: 96.9521 - val_mean_absolute_error: 7.9104\n",
      "Epoch 21/50\n",
      "22/22 [==============================] - 0s 3ms/step - loss: 28.2692 - mean_absolute_error: 3.8255 - val_loss: 90.1042 - val_mean_absolute_error: 7.6733\n",
      "Epoch 22/50\n",
      "22/22 [==============================] - 0s 3ms/step - loss: 27.4266 - mean_absolute_error: 3.7730 - val_loss: 90.4350 - val_mean_absolute_error: 7.6840\n",
      "Epoch 23/50\n",
      "22/22 [==============================] - 0s 3ms/step - loss: 27.4176 - mean_absolute_error: 3.8081 - val_loss: 97.3703 - val_mean_absolute_error: 7.9233\n",
      "Epoch 24/50\n",
      "22/22 [==============================] - 0s 3ms/step - loss: 27.2110 - mean_absolute_error: 3.7699 - val_loss: 90.3054 - val_mean_absolute_error: 7.6787\n",
      "Epoch 25/50\n",
      "22/22 [==============================] - 0s 4ms/step - loss: 27.3294 - mean_absolute_error: 3.7829 - val_loss: 98.0185 - val_mean_absolute_error: 7.9441\n",
      "Epoch 26/50\n",
      "22/22 [==============================] - 0s 3ms/step - loss: 27.6293 - mean_absolute_error: 3.8074 - val_loss: 97.4766 - val_mean_absolute_error: 7.9258\n",
      "Epoch 27/50\n",
      "22/22 [==============================] - 0s 3ms/step - loss: 27.6090 - mean_absolute_error: 3.7909 - val_loss: 90.8691 - val_mean_absolute_error: 7.6983\n",
      "Epoch 28/50\n",
      "22/22 [==============================] - 0s 3ms/step - loss: 27.5659 - mean_absolute_error: 3.7820 - val_loss: 89.2888 - val_mean_absolute_error: 7.6476\n",
      "Epoch 29/50\n",
      "22/22 [==============================] - 0s 3ms/step - loss: 27.7064 - mean_absolute_error: 3.8013 - val_loss: 89.2406 - val_mean_absolute_error: 7.6458\n",
      "Epoch 30/50\n",
      "22/22 [==============================] - 0s 3ms/step - loss: 27.5064 - mean_absolute_error: 3.7881 - val_loss: 91.5548 - val_mean_absolute_error: 7.7219\n",
      "Epoch 31/50\n",
      "22/22 [==============================] - 0s 3ms/step - loss: 27.3459 - mean_absolute_error: 3.7703 - val_loss: 90.2766 - val_mean_absolute_error: 7.6771\n",
      "Epoch 32/50\n",
      "22/22 [==============================] - 0s 3ms/step - loss: 27.4249 - mean_absolute_error: 3.7668 - val_loss: 91.3405 - val_mean_absolute_error: 7.7144\n",
      "Epoch 33/50\n",
      "22/22 [==============================] - 0s 3ms/step - loss: 27.2959 - mean_absolute_error: 3.7744 - val_loss: 91.6815 - val_mean_absolute_error: 7.7261\n",
      "Epoch 34/50\n",
      "22/22 [==============================] - 0s 3ms/step - loss: 27.4090 - mean_absolute_error: 3.7856 - val_loss: 90.9330 - val_mean_absolute_error: 7.7002\n",
      "Epoch 35/50\n",
      "22/22 [==============================] - 0s 3ms/step - loss: 27.2772 - mean_absolute_error: 3.7598 - val_loss: 94.0713 - val_mean_absolute_error: 7.8077\n",
      "Epoch 36/50\n",
      "22/22 [==============================] - 0s 3ms/step - loss: 27.6696 - mean_absolute_error: 3.8144 - val_loss: 91.4955 - val_mean_absolute_error: 7.7197\n",
      "Epoch 37/50\n",
      "22/22 [==============================] - 0s 3ms/step - loss: 27.8666 - mean_absolute_error: 3.8060 - val_loss: 92.1339 - val_mean_absolute_error: 7.7426\n",
      "Epoch 38/50\n",
      "22/22 [==============================] - 0s 3ms/step - loss: 27.6221 - mean_absolute_error: 3.8116 - val_loss: 95.4396 - val_mean_absolute_error: 7.8549\n",
      "Epoch 39/50\n",
      "22/22 [==============================] - 0s 4ms/step - loss: 27.3198 - mean_absolute_error: 3.7780 - val_loss: 91.6217 - val_mean_absolute_error: 7.7238\n",
      "Epoch 40/50\n",
      "22/22 [==============================] - 0s 4ms/step - loss: 27.3423 - mean_absolute_error: 3.7736 - val_loss: 94.2032 - val_mean_absolute_error: 7.8123\n",
      "Epoch 41/50\n",
      "22/22 [==============================] - 0s 4ms/step - loss: 27.3864 - mean_absolute_error: 3.7690 - val_loss: 92.3747 - val_mean_absolute_error: 7.7512\n",
      "Epoch 42/50\n",
      "22/22 [==============================] - 0s 3ms/step - loss: 27.4848 - mean_absolute_error: 3.7692 - val_loss: 89.9617 - val_mean_absolute_error: 7.6659\n",
      "Epoch 43/50\n",
      "22/22 [==============================] - 0s 3ms/step - loss: 27.4184 - mean_absolute_error: 3.7859 - val_loss: 90.1521 - val_mean_absolute_error: 7.6721\n",
      "Epoch 44/50\n",
      "22/22 [==============================] - 0s 3ms/step - loss: 28.1269 - mean_absolute_error: 3.8377 - val_loss: 90.3405 - val_mean_absolute_error: 7.6788\n",
      "Epoch 45/50\n",
      "22/22 [==============================] - 0s 3ms/step - loss: 27.8421 - mean_absolute_error: 3.7920 - val_loss: 91.6599 - val_mean_absolute_error: 7.7250\n",
      "Epoch 46/50\n",
      "22/22 [==============================] - 0s 3ms/step - loss: 27.5408 - mean_absolute_error: 3.7736 - val_loss: 88.6718 - val_mean_absolute_error: 7.6323\n",
      "Epoch 47/50\n",
      "22/22 [==============================] - 0s 3ms/step - loss: 27.6279 - mean_absolute_error: 3.7781 - val_loss: 89.5301 - val_mean_absolute_error: 7.6521\n",
      "Epoch 48/50\n",
      "22/22 [==============================] - 0s 3ms/step - loss: 27.5919 - mean_absolute_error: 3.7895 - val_loss: 87.9557 - val_mean_absolute_error: 7.6207\n",
      "Epoch 49/50\n",
      "22/22 [==============================] - 0s 3ms/step - loss: 27.5656 - mean_absolute_error: 3.8246 - val_loss: 94.5479 - val_mean_absolute_error: 7.8240\n",
      "Epoch 50/50\n",
      "22/22 [==============================] - 0s 3ms/step - loss: 27.3382 - mean_absolute_error: 3.7714 - val_loss: 90.9959 - val_mean_absolute_error: 7.7023\n"
     ]
    },
    {
     "data": {
      "image/png": "[encoded data removed]",
      "text/plain": [
       "<Figure size 576x360 with 1 Axes>"
      ]
     },
     "metadata": {
      "needs_background": "light"
     },
     "output_type": "display_data"
    },
    {
     "name": "stdout",
     "output_type": "stream",
     "text": [
      "Test loss (Simple RNN): 58.37358474731445, mean absolute error (Simple RNN): 5.917091369628906\n",
      "8/8 [==============================] - 0s 2ms/step\n",
      "Mean Squared Error (MSE): 58.37356155875673\n",
      "Root Mean Squared Error (RMSE): 7.640259259917606\n",
      "Mean Absolute Error (MAE): 5.91709173718366\n",
      "R-squared: 0.9588881097407392\n"
     ]
    },
    {
     "data": {
      "text/plain": [
       "<matplotlib.legend.Legend at 0x2a53cc5fdc0>"
      ]
     },
     "execution_count": 37,
     "metadata": {},
     "output_type": "execute_result"
    },
    {
     "data": {
      "image/png": "[encoded data removed]",
      "text/plain": [
       "<Figure size 432x288 with 1 Axes>"
      ]
     },
     "metadata": {
      "needs_background": "light"
     },
     "output_type": "display_data"
    }
   ],
   "source": [
    "# Simple RNN\n",
    "# Train the model\n",
    "history_rnn = model_rnn.fit(X_train, y_train, validation_data=(X_val, y_val), epochs=50, batch_size=32)\n",
    "\n",
    "# Plot the training history\n",
    "pd.DataFrame(history_rnn.history).plot(figsize=(8, 5))\n",
    "plt.show()\n",
    "\n",
    "# Evaluate the model on the test data\n",
    "loss_rnn, metric_value_rnn = model_rnn.evaluate(X_test, y_test, verbose=0)\n",
    "print(f\"Test loss (Simple RNN): {loss_rnn}, mean absolute error (Simple RNN): {metric_value_rnn}\")\n",
    "\n",
    "test_predictions = model_rnn.predict(X_test).flatten()\n",
    "\n",
    "# Calculate Mean Squared Error (MSE)\n",
    "mse = mean_squared_error(y_test,test_predictions)\n",
    "print(f'Mean Squared Error (MSE): {mse}')\n",
    "\n",
    "# Calculate Root Mean Squared Error (RMSE)\n",
    "rmse = np.sqrt(mse)\n",
    "print(f'Root Mean Squared Error (RMSE): {rmse}')\n",
    "\n",
    "# Calculate Mean Absolute Error (MAE)\n",
    "mae = mean_absolute_error(y_test,test_predictions)\n",
    "print(f'Mean Absolute Error (MAE): {mae}')\n",
    "\n",
    "# Calculate R-squared\n",
    "r2 = r2_score(y_test,test_predictions)\n",
    "print(f'R-squared: {r2}')\n",
    "\n",
    "plt.plot(test_dates, test_predictions)\n",
    "plt.plot(test_dates, y_test,alpha=0.5)\n",
    "plt.legend(['Testing Predictions', 'Testing Observations'])\n"
   ]
  },
  {
   "cell_type": "code",
   "execution_count": 38,
   "metadata": {
    "id": "87ZQZDNCihFu"
   },
   "outputs": [
    {
     "name": "stdout",
     "output_type": "stream",
     "text": [
      "Epoch 1/50\n",
      "22/22 [==============================] - 0s 5ms/step - loss: 4248.0850 - mean_absolute_error: 56.8311 - val_loss: 1642.0322 - val_mean_absolute_error: 33.3037\n",
      "Epoch 2/50\n",
      "22/22 [==============================] - 0s 3ms/step - loss: 1221.3530 - mean_absolute_error: 29.7092 - val_loss: 579.9025 - val_mean_absolute_error: 19.7182\n",
      "Epoch 3/50\n",
      "22/22 [==============================] - 0s 4ms/step - loss: 292.9958 - mean_absolute_error: 13.9565 - val_loss: 187.0325 - val_mean_absolute_error: 10.8869\n",
      "Epoch 4/50\n",
      "22/22 [==============================] - 0s 4ms/step - loss: 47.5044 - mean_absolute_error: 5.3012 - val_loss: 85.6843 - val_mean_absolute_error: 7.5513\n",
      "Epoch 5/50\n",
      "22/22 [==============================] - 0s 4ms/step - loss: 29.4023 - mean_absolute_error: 3.9086 - val_loss: 84.9225 - val_mean_absolute_error: 7.5091\n",
      "Epoch 6/50\n",
      "22/22 [==============================] - 0s 4ms/step - loss: 27.4881 - mean_absolute_error: 3.8308 - val_loss: 88.6951 - val_mean_absolute_error: 7.6143\n",
      "Epoch 7/50\n",
      "22/22 [==============================] - 0s 4ms/step - loss: 27.2828 - mean_absolute_error: 3.8070 - val_loss: 95.5513 - val_mean_absolute_error: 7.8416\n",
      "Epoch 8/50\n",
      "22/22 [==============================] - 0s 4ms/step - loss: 27.5543 - mean_absolute_error: 3.7977 - val_loss: 99.6228 - val_mean_absolute_error: 7.9831\n",
      "Epoch 9/50\n",
      "22/22 [==============================] - 0s 3ms/step - loss: 27.5019 - mean_absolute_error: 3.8081 - val_loss: 90.7139 - val_mean_absolute_error: 7.6882\n",
      "Epoch 10/50\n",
      "22/22 [==============================] - 0s 4ms/step - loss: 28.1429 - mean_absolute_error: 3.8487 - val_loss: 85.9596 - val_mean_absolute_error: 7.5605\n",
      "Epoch 11/50\n",
      "22/22 [==============================] - 0s 4ms/step - loss: 26.8309 - mean_absolute_error: 3.7221 - val_loss: 91.8415 - val_mean_absolute_error: 7.7203\n",
      "Epoch 12/50\n",
      "22/22 [==============================] - 0s 4ms/step - loss: 27.0556 - mean_absolute_error: 3.7509 - val_loss: 89.4733 - val_mean_absolute_error: 7.6449\n",
      "Epoch 13/50\n",
      "22/22 [==============================] - 0s 4ms/step - loss: 28.1566 - mean_absolute_error: 3.8203 - val_loss: 89.7625 - val_mean_absolute_error: 7.6506\n",
      "Epoch 14/50\n",
      "22/22 [==============================] - 0s 5ms/step - loss: 27.0895 - mean_absolute_error: 3.7531 - val_loss: 89.9146 - val_mean_absolute_error: 7.6587\n",
      "Epoch 15/50\n",
      "22/22 [==============================] - 0s 5ms/step - loss: 27.3526 - mean_absolute_error: 3.7837 - val_loss: 88.8205 - val_mean_absolute_error: 7.6200\n",
      "Epoch 16/50\n",
      "22/22 [==============================] - 0s 4ms/step - loss: 27.1145 - mean_absolute_error: 3.7515 - val_loss: 89.0193 - val_mean_absolute_error: 7.6240\n",
      "Epoch 17/50\n",
      "22/22 [==============================] - 0s 4ms/step - loss: 26.7467 - mean_absolute_error: 3.7322 - val_loss: 93.2053 - val_mean_absolute_error: 7.7671\n",
      "Epoch 18/50\n",
      "22/22 [==============================] - 0s 4ms/step - loss: 26.9687 - mean_absolute_error: 3.7549 - val_loss: 85.3815 - val_mean_absolute_error: 7.5539\n",
      "Epoch 19/50\n",
      "22/22 [==============================] - 0s 3ms/step - loss: 27.3631 - mean_absolute_error: 3.7773 - val_loss: 91.4685 - val_mean_absolute_error: 7.7127\n",
      "Epoch 20/50\n",
      "22/22 [==============================] - 0s 4ms/step - loss: 26.8790 - mean_absolute_error: 3.7273 - val_loss: 85.7014 - val_mean_absolute_error: 7.5468\n",
      "Epoch 21/50\n",
      "22/22 [==============================] - 0s 4ms/step - loss: 26.7294 - mean_absolute_error: 3.7396 - val_loss: 89.5056 - val_mean_absolute_error: 7.6419\n",
      "Epoch 22/50\n",
      "22/22 [==============================] - 0s 5ms/step - loss: 27.3585 - mean_absolute_error: 3.7834 - val_loss: 92.7082 - val_mean_absolute_error: 7.7482\n",
      "Epoch 23/50\n",
      "22/22 [==============================] - 0s 4ms/step - loss: 27.4126 - mean_absolute_error: 3.7912 - val_loss: 85.5989 - val_mean_absolute_error: 7.5385\n",
      "Epoch 24/50\n",
      "22/22 [==============================] - 0s 4ms/step - loss: 26.9076 - mean_absolute_error: 3.7180 - val_loss: 85.9831 - val_mean_absolute_error: 7.5476\n",
      "Epoch 25/50\n",
      "22/22 [==============================] - 0s 3ms/step - loss: 27.2163 - mean_absolute_error: 3.7739 - val_loss: 86.0729 - val_mean_absolute_error: 7.5522\n",
      "Epoch 26/50\n",
      "22/22 [==============================] - 0s 4ms/step - loss: 26.9892 - mean_absolute_error: 3.7396 - val_loss: 89.8002 - val_mean_absolute_error: 7.6511\n",
      "Epoch 27/50\n",
      "22/22 [==============================] - 0s 5ms/step - loss: 27.2269 - mean_absolute_error: 3.7731 - val_loss: 85.2649 - val_mean_absolute_error: 7.5335\n",
      "Epoch 28/50\n",
      "22/22 [==============================] - 0s 5ms/step - loss: 27.3261 - mean_absolute_error: 3.7976 - val_loss: 104.6239 - val_mean_absolute_error: 8.1613\n",
      "Epoch 29/50\n",
      "22/22 [==============================] - 0s 4ms/step - loss: 28.8765 - mean_absolute_error: 3.9802 - val_loss: 85.6425 - val_mean_absolute_error: 7.5796\n",
      "Epoch 30/50\n",
      "22/22 [==============================] - 0s 5ms/step - loss: 27.4949 - mean_absolute_error: 3.7710 - val_loss: 92.5488 - val_mean_absolute_error: 7.7371\n",
      "Epoch 31/50\n",
      "22/22 [==============================] - 0s 4ms/step - loss: 27.2796 - mean_absolute_error: 3.7554 - val_loss: 94.9451 - val_mean_absolute_error: 7.8195\n",
      "Epoch 32/50\n",
      "22/22 [==============================] - 0s 4ms/step - loss: 28.6307 - mean_absolute_error: 3.9255 - val_loss: 85.5029 - val_mean_absolute_error: 7.5360\n",
      "Epoch 33/50\n",
      "22/22 [==============================] - 0s 4ms/step - loss: 28.3907 - mean_absolute_error: 3.8319 - val_loss: 87.9588 - val_mean_absolute_error: 7.5923\n",
      "Epoch 34/50\n",
      "22/22 [==============================] - 0s 4ms/step - loss: 27.4836 - mean_absolute_error: 3.7978 - val_loss: 88.6216 - val_mean_absolute_error: 7.6130\n",
      "Epoch 35/50\n",
      "22/22 [==============================] - 0s 4ms/step - loss: 28.4177 - mean_absolute_error: 3.8702 - val_loss: 87.6785 - val_mean_absolute_error: 7.5843\n",
      "Epoch 36/50\n",
      "22/22 [==============================] - 0s 4ms/step - loss: 27.1615 - mean_absolute_error: 3.7623 - val_loss: 95.1659 - val_mean_absolute_error: 7.8281\n",
      "Epoch 37/50\n",
      "22/22 [==============================] - 0s 4ms/step - loss: 26.7446 - mean_absolute_error: 3.7424 - val_loss: 98.6551 - val_mean_absolute_error: 7.9489\n",
      "Epoch 38/50\n",
      "22/22 [==============================] - 0s 3ms/step - loss: 26.9097 - mean_absolute_error: 3.7406 - val_loss: 89.0649 - val_mean_absolute_error: 7.6260\n",
      "Epoch 39/50\n",
      "22/22 [==============================] - 0s 4ms/step - loss: 27.0153 - mean_absolute_error: 3.7623 - val_loss: 93.9569 - val_mean_absolute_error: 7.7820\n",
      "Epoch 40/50\n",
      "22/22 [==============================] - 0s 5ms/step - loss: 27.0399 - mean_absolute_error: 3.7502 - val_loss: 89.3926 - val_mean_absolute_error: 7.6411\n",
      "Epoch 41/50\n",
      "22/22 [==============================] - 0s 4ms/step - loss: 26.2787 - mean_absolute_error: 3.6974 - val_loss: 86.4236 - val_mean_absolute_error: 7.5449\n",
      "Epoch 42/50\n",
      "22/22 [==============================] - 0s 4ms/step - loss: 27.1514 - mean_absolute_error: 3.7534 - val_loss: 91.4420 - val_mean_absolute_error: 7.7016\n",
      "Epoch 43/50\n",
      "22/22 [==============================] - 0s 3ms/step - loss: 26.6898 - mean_absolute_error: 3.7346 - val_loss: 87.6268 - val_mean_absolute_error: 7.5783\n",
      "Epoch 44/50\n",
      "22/22 [==============================] - 0s 3ms/step - loss: 26.8328 - mean_absolute_error: 3.7548 - val_loss: 87.1731 - val_mean_absolute_error: 7.5631\n",
      "Epoch 45/50\n",
      "22/22 [==============================] - 0s 3ms/step - loss: 26.5847 - mean_absolute_error: 3.7077 - val_loss: 87.4759 - val_mean_absolute_error: 7.5744\n",
      "Epoch 46/50\n",
      "22/22 [==============================] - 0s 4ms/step - loss: 27.0056 - mean_absolute_error: 3.7576 - val_loss: 101.1980 - val_mean_absolute_error: 8.0409\n",
      "Epoch 47/50\n",
      "22/22 [==============================] - 0s 5ms/step - loss: 27.2435 - mean_absolute_error: 3.7870 - val_loss: 96.7493 - val_mean_absolute_error: 7.8811\n",
      "Epoch 48/50\n",
      "22/22 [==============================] - 0s 5ms/step - loss: 30.4418 - mean_absolute_error: 4.0634 - val_loss: 86.8815 - val_mean_absolute_error: 7.6512\n",
      "Epoch 49/50\n",
      "22/22 [==============================] - 0s 5ms/step - loss: 28.5473 - mean_absolute_error: 3.8386 - val_loss: 88.7430 - val_mean_absolute_error: 7.6090\n",
      "Epoch 50/50\n",
      "22/22 [==============================] - 0s 4ms/step - loss: 26.8444 - mean_absolute_error: 3.7802 - val_loss: 85.2653 - val_mean_absolute_error: 7.5614\n"
     ]
    },
    {
     "data": {
      "image/png": "[encoded data removed]",
      "text/plain": [
       "<Figure size 576x360 with 1 Axes>"
      ]
     },
     "metadata": {
      "needs_background": "light"
     },
     "output_type": "display_data"
    },
    {
     "name": "stdout",
     "output_type": "stream",
     "text": [
      "Test loss (Simple RNN): 63.51376724243164, mean absolute error (Simple RNN): 6.168429851531982\n",
      "8/8 [==============================] - 0s 2ms/step\n",
      "Mean Squared Error (MSE): 63.513820877928936\n",
      "Root Mean Squared Error (RMSE): 7.969555877081793\n",
      "Mean Absolute Error (MAE): 6.168431862037593\n",
      "R-squared: 0.9552678787424775\n"
     ]
    },
    {
     "data": {
      "text/plain": [
       "<matplotlib.legend.Legend at 0x2a53dd13610>"
      ]
     },
     "execution_count": 38,
     "metadata": {},
     "output_type": "execute_result"
    },
    {
     "data": {
      "image/png": "[encoded data removed]",
      "text/plain": [
       "<Figure size 432x288 with 1 Axes>"
      ]
     },
     "metadata": {
      "needs_background": "light"
     },
     "output_type": "display_data"
    }
   ],
   "source": [
    "#Vanilla LSTM\n",
    "# Train the model\n",
    "history = model_1.fit(X_train, y_train, validation_data=(X_val, y_val), epochs=50, batch_size=32)\n",
    "\n",
    "# Plot the training history\n",
    "pd.DataFrame(history.history).plot(figsize=(8, 5))\n",
    "plt.show()\n",
    "\n",
    "# Evaluate the model on the test data\n",
    "loss, metric_value = model_1.evaluate(X_test, y_test, verbose=0)\n",
    "print(f\"Test loss (Simple RNN): {loss}, mean absolute error (Simple RNN): {metric_value}\")\n",
    "\n",
    "test_predictions = model_1.predict(X_test).flatten()\n",
    "\n",
    "# Calculate Mean Squared Error (MSE)\n",
    "mse = mean_squared_error(y_test,test_predictions)\n",
    "print(f'Mean Squared Error (MSE): {mse}')\n",
    "\n",
    "# Calculate Root Mean Squared Error (RMSE)\n",
    "rmse = np.sqrt(mse)\n",
    "print(f'Root Mean Squared Error (RMSE): {rmse}')\n",
    "\n",
    "# Calculate Mean Absolute Error (MAE)\n",
    "mae = mean_absolute_error(y_test,test_predictions)\n",
    "print(f'Mean Absolute Error (MAE): {mae}')\n",
    "\n",
    "# Calculate R-squared\n",
    "r2 = r2_score(y_test,test_predictions)\n",
    "print(f'R-squared: {r2}')\n",
    "\n",
    "plt.plot(test_dates, test_predictions)\n",
    "plt.plot(test_dates, y_test,alpha=0.5)\n",
    "plt.legend(['Testing Predictions', 'Testing Observations'])"
   ]
  },
  {
   "cell_type": "code",
   "execution_count": 39,
   "metadata": {
    "id": "MRfDdRGiihNl"
   },
   "outputs": [
    {
     "name": "stdout",
     "output_type": "stream",
     "text": [
      "Epoch 1/50\n",
      "22/22 [==============================] - 0s 6ms/step - loss: 2875.8687 - mean_absolute_error: 45.2833 - val_loss: 651.6542 - val_mean_absolute_error: 20.0553\n",
      "Epoch 2/50\n",
      "22/22 [==============================] - 0s 5ms/step - loss: 213.5036 - mean_absolute_error: 11.2628 - val_loss: 101.9160 - val_mean_absolute_error: 8.0521\n",
      "Epoch 3/50\n",
      "22/22 [==============================] - 0s 5ms/step - loss: 31.0161 - mean_absolute_error: 4.2223 - val_loss: 90.1918 - val_mean_absolute_error: 7.7775\n",
      "Epoch 4/50\n",
      "22/22 [==============================] - 0s 5ms/step - loss: 50.3126 - mean_absolute_error: 5.2983 - val_loss: 193.8315 - val_mean_absolute_error: 11.6998\n",
      "Epoch 5/50\n",
      "22/22 [==============================] - 0s 5ms/step - loss: 55.4698 - mean_absolute_error: 5.5342 - val_loss: 121.3840 - val_mean_absolute_error: 9.0896\n",
      "Epoch 6/50\n",
      "22/22 [==============================] - 0s 5ms/step - loss: 34.5272 - mean_absolute_error: 4.3624 - val_loss: 85.3420 - val_mean_absolute_error: 7.5971\n",
      "Epoch 7/50\n",
      "22/22 [==============================] - 0s 5ms/step - loss: 32.5186 - mean_absolute_error: 4.1598 - val_loss: 84.4597 - val_mean_absolute_error: 7.4649\n",
      "Epoch 8/50\n",
      "22/22 [==============================] - 0s 5ms/step - loss: 28.7820 - mean_absolute_error: 3.9229 - val_loss: 94.7236 - val_mean_absolute_error: 7.7883\n",
      "Epoch 9/50\n",
      "22/22 [==============================] - 0s 6ms/step - loss: 27.2031 - mean_absolute_error: 3.7905 - val_loss: 87.0916 - val_mean_absolute_error: 7.6519\n",
      "Epoch 10/50\n",
      "22/22 [==============================] - 0s 5ms/step - loss: 26.8952 - mean_absolute_error: 3.7937 - val_loss: 84.9564 - val_mean_absolute_error: 7.5680\n",
      "Epoch 11/50\n",
      "22/22 [==============================] - 0s 5ms/step - loss: 28.6337 - mean_absolute_error: 3.9826 - val_loss: 80.5966 - val_mean_absolute_error: 7.3538\n",
      "Epoch 12/50\n",
      "22/22 [==============================] - 0s 5ms/step - loss: 26.2289 - mean_absolute_error: 3.7549 - val_loss: 85.3318 - val_mean_absolute_error: 7.4637\n",
      "Epoch 13/50\n",
      "22/22 [==============================] - 0s 5ms/step - loss: 29.2740 - mean_absolute_error: 3.9824 - val_loss: 99.6834 - val_mean_absolute_error: 7.9634\n",
      "Epoch 14/50\n",
      "22/22 [==============================] - 0s 6ms/step - loss: 27.3182 - mean_absolute_error: 3.8096 - val_loss: 83.4038 - val_mean_absolute_error: 7.5049\n",
      "Epoch 15/50\n",
      "22/22 [==============================] - 0s 7ms/step - loss: 35.1750 - mean_absolute_error: 4.4996 - val_loss: 81.7149 - val_mean_absolute_error: 7.3722\n",
      "Epoch 16/50\n",
      "22/22 [==============================] - 0s 5ms/step - loss: 31.2278 - mean_absolute_error: 4.1059 - val_loss: 96.5928 - val_mean_absolute_error: 8.0534\n",
      "Epoch 17/50\n",
      "22/22 [==============================] - 0s 5ms/step - loss: 27.5015 - mean_absolute_error: 3.8017 - val_loss: 92.9508 - val_mean_absolute_error: 7.7262\n",
      "Epoch 18/50\n",
      "22/22 [==============================] - 0s 6ms/step - loss: 27.4281 - mean_absolute_error: 3.8555 - val_loss: 90.1447 - val_mean_absolute_error: 7.6204\n",
      "Epoch 19/50\n",
      "22/22 [==============================] - 0s 6ms/step - loss: 38.8188 - mean_absolute_error: 4.7555 - val_loss: 84.4176 - val_mean_absolute_error: 7.4686\n",
      "Epoch 20/50\n",
      "22/22 [==============================] - 0s 5ms/step - loss: 31.3045 - mean_absolute_error: 4.1645 - val_loss: 84.6586 - val_mean_absolute_error: 7.4872\n",
      "Epoch 21/50\n",
      "22/22 [==============================] - 0s 6ms/step - loss: 29.0230 - mean_absolute_error: 3.9455 - val_loss: 81.9998 - val_mean_absolute_error: 7.3930\n",
      "Epoch 22/50\n",
      "22/22 [==============================] - 0s 5ms/step - loss: 25.7079 - mean_absolute_error: 3.6915 - val_loss: 81.6792 - val_mean_absolute_error: 7.3716\n",
      "Epoch 23/50\n",
      "22/22 [==============================] - 0s 5ms/step - loss: 26.4225 - mean_absolute_error: 3.7100 - val_loss: 89.0234 - val_mean_absolute_error: 7.5822\n",
      "Epoch 24/50\n",
      "22/22 [==============================] - 0s 5ms/step - loss: 28.9981 - mean_absolute_error: 3.9629 - val_loss: 103.1009 - val_mean_absolute_error: 8.2823\n",
      "Epoch 25/50\n",
      "22/22 [==============================] - 0s 5ms/step - loss: 33.5804 - mean_absolute_error: 4.2746 - val_loss: 81.4573 - val_mean_absolute_error: 7.4053\n",
      "Epoch 26/50\n",
      "22/22 [==============================] - 0s 5ms/step - loss: 28.1512 - mean_absolute_error: 3.8518 - val_loss: 88.8592 - val_mean_absolute_error: 7.5898\n",
      "Epoch 27/50\n",
      "22/22 [==============================] - 0s 5ms/step - loss: 31.2512 - mean_absolute_error: 4.1598 - val_loss: 83.5836 - val_mean_absolute_error: 7.5170\n",
      "Epoch 28/50\n",
      "22/22 [==============================] - 0s 5ms/step - loss: 30.6660 - mean_absolute_error: 4.0916 - val_loss: 96.9317 - val_mean_absolute_error: 7.8690\n",
      "Epoch 29/50\n",
      "22/22 [==============================] - 0s 5ms/step - loss: 29.9774 - mean_absolute_error: 4.0046 - val_loss: 90.0398 - val_mean_absolute_error: 7.6191\n",
      "Epoch 30/50\n",
      "22/22 [==============================] - 0s 5ms/step - loss: 32.8756 - mean_absolute_error: 4.1875 - val_loss: 91.3646 - val_mean_absolute_error: 7.6648\n",
      "Epoch 31/50\n",
      "22/22 [==============================] - 0s 5ms/step - loss: 30.8226 - mean_absolute_error: 4.1222 - val_loss: 82.7608 - val_mean_absolute_error: 7.4149\n",
      "Epoch 32/50\n",
      "22/22 [==============================] - 0s 5ms/step - loss: 27.1930 - mean_absolute_error: 3.7513 - val_loss: 86.8144 - val_mean_absolute_error: 7.5196\n",
      "Epoch 33/50\n",
      "22/22 [==============================] - 0s 5ms/step - loss: 27.8942 - mean_absolute_error: 3.8690 - val_loss: 93.3698 - val_mean_absolute_error: 7.7382\n",
      "Epoch 34/50\n",
      "22/22 [==============================] - 0s 5ms/step - loss: 27.9093 - mean_absolute_error: 3.8547 - val_loss: 95.0654 - val_mean_absolute_error: 7.7992\n",
      "Epoch 35/50\n",
      "22/22 [==============================] - 0s 5ms/step - loss: 26.7019 - mean_absolute_error: 3.7846 - val_loss: 80.3169 - val_mean_absolute_error: 7.3434\n",
      "Epoch 36/50\n",
      "22/22 [==============================] - 0s 4ms/step - loss: 25.8063 - mean_absolute_error: 3.6772 - val_loss: 80.1834 - val_mean_absolute_error: 7.3461\n",
      "Epoch 37/50\n",
      "22/22 [==============================] - 0s 7ms/step - loss: 25.8941 - mean_absolute_error: 3.7273 - val_loss: 88.0492 - val_mean_absolute_error: 7.5467\n",
      "Epoch 38/50\n",
      "22/22 [==============================] - 0s 7ms/step - loss: 26.2120 - mean_absolute_error: 3.6827 - val_loss: 87.4106 - val_mean_absolute_error: 7.5247\n",
      "Epoch 39/50\n",
      "22/22 [==============================] - 0s 5ms/step - loss: 30.5313 - mean_absolute_error: 4.0705 - val_loss: 138.2428 - val_mean_absolute_error: 9.4040\n",
      "Epoch 40/50\n",
      "22/22 [==============================] - 0s 7ms/step - loss: 30.0422 - mean_absolute_error: 4.1238 - val_loss: 81.1914 - val_mean_absolute_error: 7.3977\n",
      "Epoch 41/50\n",
      "22/22 [==============================] - 0s 5ms/step - loss: 34.8745 - mean_absolute_error: 4.3678 - val_loss: 83.6596 - val_mean_absolute_error: 7.5199\n",
      "Epoch 42/50\n",
      "22/22 [==============================] - 0s 5ms/step - loss: 32.7603 - mean_absolute_error: 4.2967 - val_loss: 98.9286 - val_mean_absolute_error: 7.9418\n",
      "Epoch 43/50\n",
      "22/22 [==============================] - 0s 6ms/step - loss: 28.8156 - mean_absolute_error: 3.9313 - val_loss: 81.4635 - val_mean_absolute_error: 7.3889\n",
      "Epoch 44/50\n",
      "22/22 [==============================] - 0s 7ms/step - loss: 27.4533 - mean_absolute_error: 3.8729 - val_loss: 91.7053 - val_mean_absolute_error: 7.6770\n",
      "Epoch 45/50\n",
      "22/22 [==============================] - 0s 5ms/step - loss: 25.6088 - mean_absolute_error: 3.6952 - val_loss: 80.2930 - val_mean_absolute_error: 7.3383\n",
      "Epoch 46/50\n",
      "22/22 [==============================] - 0s 5ms/step - loss: 26.0437 - mean_absolute_error: 3.6807 - val_loss: 83.8488 - val_mean_absolute_error: 7.4132\n",
      "Epoch 47/50\n",
      "22/22 [==============================] - 0s 7ms/step - loss: 26.2304 - mean_absolute_error: 3.7174 - val_loss: 88.6266 - val_mean_absolute_error: 7.5644\n",
      "Epoch 48/50\n",
      "22/22 [==============================] - 0s 5ms/step - loss: 25.9421 - mean_absolute_error: 3.7082 - val_loss: 83.8574 - val_mean_absolute_error: 7.5108\n",
      "Epoch 49/50\n",
      "22/22 [==============================] - 0s 5ms/step - loss: 29.0509 - mean_absolute_error: 4.0218 - val_loss: 104.5694 - val_mean_absolute_error: 8.1347\n",
      "Epoch 50/50\n",
      "22/22 [==============================] - 0s 5ms/step - loss: 26.6952 - mean_absolute_error: 3.8053 - val_loss: 81.1526 - val_mean_absolute_error: 7.3965\n"
     ]
    },
    {
     "data": {
      "image/png": "[encoded data removed]",
      "text/plain": [
       "<Figure size 576x360 with 1 Axes>"
      ]
     },
     "metadata": {
      "needs_background": "light"
     },
     "output_type": "display_data"
    },
    {
     "name": "stdout",
     "output_type": "stream",
     "text": [
      "Test loss (Simple RNN): 61.91472244262695, mean absolute error (Simple RNN): 6.09721040725708\n",
      "8/8 [==============================] - 0s 2ms/step\n",
      "Mean Squared Error (MSE): 61.91471260551147\n",
      "Root Mean Squared Error (RMSE): 7.868590255281531\n",
      "Mean Absolute Error (MAE): 6.097210420101328\n",
      "R-squared: 0.9563941140115407\n"
     ]
    },
    {
     "data": {
      "text/plain": [
       "<matplotlib.legend.Legend at 0x2a53de10af0>"
      ]
     },
     "execution_count": 39,
     "metadata": {},
     "output_type": "execute_result"
    },
    {
     "data": {
      "image/png": "[encoded data removed]",
      "text/plain": [
       "<Figure size 432x288 with 1 Axes>"
      ]
     },
     "metadata": {
      "needs_background": "light"
     },
     "output_type": "display_data"
    }
   ],
   "source": [
    "#Stacked LSTM\n",
    "# Train the model\n",
    "history = model_2.fit(X_train, y_train, validation_data=(X_val, y_val), epochs=50, batch_size=32)\n",
    "\n",
    "# Plot the training history\n",
    "pd.DataFrame(history.history).plot(figsize=(8, 5))\n",
    "plt.show()\n",
    "\n",
    "# Evaluate the model on the test data\n",
    "loss, metric_value = model_2.evaluate(X_test, y_test, verbose=0)\n",
    "print(f\"Test loss (Simple RNN): {loss}, mean absolute error (Simple RNN): {metric_value}\")\n",
    "\n",
    "test_predictions = model_2.predict(X_test).flatten()\n",
    "\n",
    "# Calculate Mean Squared Error (MSE)\n",
    "mse = mean_squared_error(y_test,test_predictions)\n",
    "print(f'Mean Squared Error (MSE): {mse}')\n",
    "\n",
    "# Calculate Root Mean Squared Error (RMSE)\n",
    "rmse = np.sqrt(mse)\n",
    "print(f'Root Mean Squared Error (RMSE): {rmse}')\n",
    "\n",
    "# Calculate Mean Absolute Error (MAE)\n",
    "mae = mean_absolute_error(y_test,test_predictions)\n",
    "print(f'Mean Absolute Error (MAE): {mae}')\n",
    "\n",
    "# Calculate R-squared\n",
    "r2 = r2_score(y_test,test_predictions)\n",
    "print(f'R-squared: {r2}')\n",
    "\n",
    "plt.plot(test_dates, test_predictions)\n",
    "plt.plot(test_dates, y_test,alpha=0.5)\n",
    "plt.legend(['Testing Predictions', 'Testing Observations'])"
   ]
  },
  {
   "cell_type": "code",
   "execution_count": 40,
   "metadata": {
    "id": "Vb9HuqFSlT_Q"
   },
   "outputs": [
    {
     "name": "stdout",
     "output_type": "stream",
     "text": [
      "Epoch 1/50\n",
      "22/22 [==============================] - 0s 5ms/step - loss: 2425.3186 - mean_absolute_error: 39.3630 - val_loss: 138.9455 - val_mean_absolute_error: 9.5314\n",
      "Epoch 2/50\n",
      "22/22 [==============================] - 0s 4ms/step - loss: 303.4456 - mean_absolute_error: 14.5658 - val_loss: 368.7881 - val_mean_absolute_error: 16.3897\n",
      "Epoch 3/50\n",
      "22/22 [==============================] - 0s 4ms/step - loss: 87.0410 - mean_absolute_error: 7.5680 - val_loss: 168.3424 - val_mean_absolute_error: 10.3814\n",
      "Epoch 4/50\n",
      "22/22 [==============================] - 0s 4ms/step - loss: 49.0003 - mean_absolute_error: 5.4398 - val_loss: 105.5550 - val_mean_absolute_error: 8.2247\n",
      "Epoch 5/50\n",
      "22/22 [==============================] - 0s 4ms/step - loss: 37.5162 - mean_absolute_error: 4.6962 - val_loss: 98.9933 - val_mean_absolute_error: 7.9960\n",
      "Epoch 6/50\n",
      "22/22 [==============================] - 0s 4ms/step - loss: 32.2448 - mean_absolute_error: 4.2821 - val_loss: 101.0669 - val_mean_absolute_error: 8.0559\n",
      "Epoch 7/50\n",
      "22/22 [==============================] - 0s 4ms/step - loss: 29.8645 - mean_absolute_error: 4.0589 - val_loss: 96.8911 - val_mean_absolute_error: 7.9121\n",
      "Epoch 8/50\n",
      "22/22 [==============================] - 0s 4ms/step - loss: 28.8496 - mean_absolute_error: 3.9432 - val_loss: 97.3891 - val_mean_absolute_error: 7.9238\n",
      "Epoch 9/50\n",
      "22/22 [==============================] - 0s 4ms/step - loss: 28.2247 - mean_absolute_error: 3.8978 - val_loss: 94.6312 - val_mean_absolute_error: 7.8290\n",
      "Epoch 10/50\n",
      "22/22 [==============================] - 0s 4ms/step - loss: 27.8530 - mean_absolute_error: 3.8649 - val_loss: 93.0284 - val_mean_absolute_error: 7.7747\n",
      "Epoch 11/50\n",
      "22/22 [==============================] - 0s 4ms/step - loss: 27.7887 - mean_absolute_error: 3.8807 - val_loss: 87.2755 - val_mean_absolute_error: 7.6052\n",
      "Epoch 12/50\n",
      "22/22 [==============================] - 0s 4ms/step - loss: 28.2405 - mean_absolute_error: 3.9074 - val_loss: 93.8144 - val_mean_absolute_error: 7.7966\n",
      "Epoch 13/50\n",
      "22/22 [==============================] - 0s 4ms/step - loss: 28.1626 - mean_absolute_error: 3.9029 - val_loss: 95.7889 - val_mean_absolute_error: 7.8610\n",
      "Epoch 14/50\n",
      "22/22 [==============================] - 0s 4ms/step - loss: 27.2657 - mean_absolute_error: 3.8119 - val_loss: 88.4143 - val_mean_absolute_error: 7.6209\n",
      "Epoch 15/50\n",
      "22/22 [==============================] - 0s 4ms/step - loss: 27.5055 - mean_absolute_error: 3.8432 - val_loss: 93.7427 - val_mean_absolute_error: 7.7921\n",
      "Epoch 16/50\n",
      "22/22 [==============================] - 0s 4ms/step - loss: 27.6094 - mean_absolute_error: 3.8448 - val_loss: 88.4772 - val_mean_absolute_error: 7.6212\n",
      "Epoch 17/50\n",
      "22/22 [==============================] - 0s 4ms/step - loss: 27.5201 - mean_absolute_error: 3.8361 - val_loss: 86.5160 - val_mean_absolute_error: 7.5853\n",
      "Epoch 18/50\n",
      "22/22 [==============================] - 0s 4ms/step - loss: 29.4877 - mean_absolute_error: 3.9746 - val_loss: 88.5076 - val_mean_absolute_error: 7.6205\n",
      "Epoch 19/50\n",
      "22/22 [==============================] - 0s 4ms/step - loss: 29.0671 - mean_absolute_error: 3.9732 - val_loss: 96.2804 - val_mean_absolute_error: 7.8767\n",
      "Epoch 20/50\n",
      "22/22 [==============================] - 0s 4ms/step - loss: 27.6124 - mean_absolute_error: 3.8527 - val_loss: 96.1809 - val_mean_absolute_error: 7.8734\n",
      "Epoch 21/50\n",
      "22/22 [==============================] - 0s 4ms/step - loss: 27.5674 - mean_absolute_error: 3.8405 - val_loss: 89.8836 - val_mean_absolute_error: 7.6580\n",
      "Epoch 22/50\n",
      "22/22 [==============================] - 0s 4ms/step - loss: 27.4302 - mean_absolute_error: 3.8374 - val_loss: 92.6640 - val_mean_absolute_error: 7.7588\n",
      "Epoch 23/50\n",
      "22/22 [==============================] - 0s 4ms/step - loss: 27.7253 - mean_absolute_error: 3.8610 - val_loss: 93.9069 - val_mean_absolute_error: 7.7976\n",
      "Epoch 24/50\n",
      "22/22 [==============================] - 0s 4ms/step - loss: 27.6324 - mean_absolute_error: 3.8404 - val_loss: 94.3515 - val_mean_absolute_error: 7.8120\n",
      "Epoch 25/50\n",
      "22/22 [==============================] - 0s 4ms/step - loss: 27.3863 - mean_absolute_error: 3.8300 - val_loss: 91.4096 - val_mean_absolute_error: 7.7149\n",
      "Epoch 26/50\n",
      "22/22 [==============================] - 0s 4ms/step - loss: 27.4455 - mean_absolute_error: 3.8282 - val_loss: 90.0255 - val_mean_absolute_error: 7.6627\n",
      "Epoch 27/50\n",
      "22/22 [==============================] - 0s 4ms/step - loss: 27.5296 - mean_absolute_error: 3.8320 - val_loss: 87.9232 - val_mean_absolute_error: 7.6119\n",
      "Epoch 28/50\n",
      "22/22 [==============================] - 0s 4ms/step - loss: 27.1785 - mean_absolute_error: 3.8078 - val_loss: 90.9232 - val_mean_absolute_error: 7.6967\n",
      "Epoch 29/50\n",
      "22/22 [==============================] - 0s 4ms/step - loss: 27.5762 - mean_absolute_error: 3.8429 - val_loss: 90.0115 - val_mean_absolute_error: 7.6626\n",
      "Epoch 30/50\n",
      "22/22 [==============================] - 0s 4ms/step - loss: 27.3978 - mean_absolute_error: 3.8056 - val_loss: 90.1033 - val_mean_absolute_error: 7.6662\n",
      "Epoch 31/50\n",
      "22/22 [==============================] - 0s 4ms/step - loss: 27.2957 - mean_absolute_error: 3.8095 - val_loss: 90.8512 - val_mean_absolute_error: 7.6942\n",
      "Epoch 32/50\n",
      "22/22 [==============================] - 0s 4ms/step - loss: 27.2325 - mean_absolute_error: 3.8040 - val_loss: 89.3602 - val_mean_absolute_error: 7.6461\n",
      "Epoch 33/50\n",
      "22/22 [==============================] - 0s 4ms/step - loss: 27.1732 - mean_absolute_error: 3.8037 - val_loss: 92.0235 - val_mean_absolute_error: 7.7376\n",
      "Epoch 34/50\n",
      "22/22 [==============================] - 0s 4ms/step - loss: 27.6887 - mean_absolute_error: 3.8131 - val_loss: 90.5741 - val_mean_absolute_error: 7.6836\n",
      "Epoch 35/50\n",
      "22/22 [==============================] - 0s 4ms/step - loss: 27.7662 - mean_absolute_error: 3.8270 - val_loss: 89.9106 - val_mean_absolute_error: 7.6597\n",
      "Epoch 36/50\n",
      "22/22 [==============================] - 0s 4ms/step - loss: 28.4079 - mean_absolute_error: 3.8907 - val_loss: 89.8833 - val_mean_absolute_error: 7.6595\n",
      "Epoch 37/50\n",
      "22/22 [==============================] - 0s 4ms/step - loss: 27.4507 - mean_absolute_error: 3.8294 - val_loss: 88.8151 - val_mean_absolute_error: 7.6326\n",
      "Epoch 38/50\n",
      "22/22 [==============================] - 0s 4ms/step - loss: 27.3680 - mean_absolute_error: 3.8272 - val_loss: 88.7272 - val_mean_absolute_error: 7.6311\n",
      "Epoch 39/50\n",
      "22/22 [==============================] - 0s 3ms/step - loss: 27.2363 - mean_absolute_error: 3.8023 - val_loss: 90.0578 - val_mean_absolute_error: 7.6656\n",
      "Epoch 40/50\n",
      "22/22 [==============================] - 0s 3ms/step - loss: 27.4659 - mean_absolute_error: 3.8263 - val_loss: 94.4580 - val_mean_absolute_error: 7.8170\n",
      "Epoch 41/50\n",
      "22/22 [==============================] - 0s 4ms/step - loss: 27.2904 - mean_absolute_error: 3.7772 - val_loss: 89.6707 - val_mean_absolute_error: 7.6537\n",
      "Epoch 42/50\n",
      "22/22 [==============================] - 0s 5ms/step - loss: 27.1306 - mean_absolute_error: 3.7829 - val_loss: 89.5658 - val_mean_absolute_error: 7.6529\n",
      "Epoch 43/50\n",
      "22/22 [==============================] - 0s 4ms/step - loss: 27.4405 - mean_absolute_error: 3.7909 - val_loss: 93.9265 - val_mean_absolute_error: 7.8013\n",
      "Epoch 44/50\n",
      "22/22 [==============================] - 0s 4ms/step - loss: 27.7052 - mean_absolute_error: 3.7945 - val_loss: 97.0554 - val_mean_absolute_error: 7.9051\n",
      "Epoch 45/50\n",
      "22/22 [==============================] - 0s 4ms/step - loss: 27.1266 - mean_absolute_error: 3.8077 - val_loss: 90.1276 - val_mean_absolute_error: 7.6683\n",
      "Epoch 46/50\n",
      "22/22 [==============================] - 0s 3ms/step - loss: 27.1241 - mean_absolute_error: 3.7858 - val_loss: 89.0683 - val_mean_absolute_error: 7.6412\n",
      "Epoch 47/50\n",
      "22/22 [==============================] - 0s 3ms/step - loss: 27.2479 - mean_absolute_error: 3.8061 - val_loss: 91.3989 - val_mean_absolute_error: 7.7161\n",
      "Epoch 48/50\n",
      "22/22 [==============================] - 0s 4ms/step - loss: 27.1713 - mean_absolute_error: 3.7649 - val_loss: 95.8047 - val_mean_absolute_error: 7.8626\n",
      "Epoch 49/50\n",
      "22/22 [==============================] - 0s 4ms/step - loss: 28.4000 - mean_absolute_error: 3.8979 - val_loss: 95.0856 - val_mean_absolute_error: 7.8389\n",
      "Epoch 50/50\n",
      "22/22 [==============================] - 0s 5ms/step - loss: 27.2863 - mean_absolute_error: 3.8170 - val_loss: 94.0228 - val_mean_absolute_error: 7.8040\n"
     ]
    },
    {
     "data": {
      "image/png": "[encoded data removed]",
      "text/plain": [
       "<Figure size 576x360 with 1 Axes>"
      ]
     },
     "metadata": {
      "needs_background": "light"
     },
     "output_type": "display_data"
    },
    {
     "name": "stdout",
     "output_type": "stream",
     "text": [
      "Test loss (Simple RNN): 58.924522399902344, mean absolute error (Simple RNN): 6.0252790451049805\n",
      "8/8 [==============================] - 0s 1ms/step\n",
      "Mean Squared Error (MSE): 58.924524058985426\n",
      "Root Mean Squared Error (RMSE): 7.676231110316144\n",
      "Mean Absolute Error (MAE): 6.025279347848223\n",
      "R-squared: 0.958500072601296\n"
     ]
    },
    {
     "data": {
      "text/plain": [
       "<matplotlib.legend.Legend at 0x2a53def39a0>"
      ]
     },
     "execution_count": 40,
     "metadata": {},
     "output_type": "execute_result"
    },
    {
     "data": {
      "image/png": "[encoded data removed]",
      "text/plain": [
       "<Figure size 432x288 with 1 Axes>"
      ]
     },
     "metadata": {
      "needs_background": "light"
     },
     "output_type": "display_data"
    }
   ],
   "source": [
    "# GRU model\n",
    "# Train the model\n",
    "history = model_gru.fit(X_train, y_train, validation_data=(X_val, y_val), epochs=50, batch_size=32)\n",
    "\n",
    "# Plot the training history\n",
    "pd.DataFrame(history.history).plot(figsize=(8, 5))\n",
    "plt.show()\n",
    "\n",
    "# Evaluate the model on the test data\n",
    "loss, metric_value = model_gru.evaluate(X_test, y_test, verbose=0)\n",
    "print(f\"Test loss (Simple RNN): {loss}, mean absolute error (Simple RNN): {metric_value}\")\n",
    "\n",
    "test_predictions = model_gru.predict(X_test).flatten()\n",
    "\n",
    "# Calculate Mean Squared Error (MSE)\n",
    "mse = mean_squared_error(y_test,test_predictions)\n",
    "print(f'Mean Squared Error (MSE): {mse}')\n",
    "\n",
    "# Calculate Root Mean Squared Error (RMSE)\n",
    "rmse = np.sqrt(mse)\n",
    "print(f'Root Mean Squared Error (RMSE): {rmse}')\n",
    "\n",
    "# Calculate Mean Absolute Error (MAE)\n",
    "mae = mean_absolute_error(y_test,test_predictions)\n",
    "print(f'Mean Absolute Error (MAE): {mae}')\n",
    "\n",
    "# Calculate R-squared\n",
    "r2 = r2_score(y_test,test_predictions)\n",
    "print(f'R-squared: {r2}')\n",
    "\n",
    "plt.plot(test_dates, test_predictions)\n",
    "plt.plot(test_dates, y_test,alpha=0.5)\n",
    "plt.legend(['Testing Predictions', 'Testing Observations'])"
   ]
  },
  {
   "cell_type": "code",
   "execution_count": null,
   "metadata": {
    "id": "UpZc3RqVdDuP"
   },
   "outputs": [],
   "source": [
    "# smaller time range seems doing better on the stacked LSTM model. instead change the time stamp, we only change the time stamp in term how we called ie instead passing from 1976, we passed in 2019 where the data range has many pattern to learn. meaning in the training it has varies pattern to learn. hence the\n",
    "# testing set can extrapolate better and performed well on the dataset. this is because in the training set, they have varies of data pattern that testing prediction can extrapolate well neither overestimate or underestimate. the predicted value\n",
    "# right now is so closed to testing value.\n",
    "# Hence, This observation aligns with the general idea that providing the model with a more representative and diverse set of patterns during training can enhance its ability to generalize to unseen data, especially during extrapolation.\n",
    "# By narrowing the time range to a period where the data exhibits various patterns and trends, you are essentially offering the model a richer set of learning experiences. This helps the model become more robust to different scenarios and potentially enables it to extrapolate more effectively when applied to the testing set.\n",
    "# When the model is exposed to a broader range of patterns and trends during training, it becomes more adept at generalizing and extrapolating to unseen data.\n",
    "# In this specific scenario, by focusing on a time range with more varied patterns, the model appears to better capture the underlying dynamics of the data though it\n",
    "# is in smaller time range."
   ]
  },
  {
   "cell_type": "code",
   "execution_count": null,
   "metadata": {
    "id": "tNR5j4PHinbr"
   },
   "outputs": [],
   "source": [
    "#Observations:\n",
    "\n",
    "#Both the GRU and stacked LSTM models, when trained on the smaller time range (2019 to 2023), exhibit superior performance compared to the larger time range (1986 to 2023) for the stacked LSTM model.\n",
    "#The GRU model outperforms the stacked LSTM model slightly in terms of MSE, RMSE, MAE, and R-squared on the smaller time range.\n",
    "#The Vanilla LSTM model shows significantly poorer performance on the larger time range, indicating its struggle to generalize and predict well outside the trained range.\n",
    "\n",
    "#Conclusion:\n",
    "\n",
    "#The GRU and stacked LSTM models seem to benefit from a more focused time range for training, capturing relevant patterns and achieving better generalization on the test set, especially during the smaller time range (2019 to 2023).\n",
    "#The choice of model architecture (GRU vs. stacked LSTM) may depend on specific dataset characteristics and computational considerations, but both seem effective for this particular problem within the chosen time range.\n",
    "#The poor performance of the Vanilla LSTM model emphasizes the importance of choosing appropriate architectures and training strategies for time series data, as Vanilla LSTMs might struggle with long-range dependencies and diverse patterns.\n"
   ]
  }
 ],
 "metadata": {
  "accelerator": "GPU",
  "colab": {
   "gpuType": "T4",
   "provenance": []
  },
  "kernelspec": {
   "display_name": "Python 3 (ipykernel)",
   "language": "python",
   "name": "python3"
  },
  "language_info": {
   "codemirror_mode": {
    "name": "ipython",
    "version": 3
   },
   "file_extension": ".py",
   "mimetype": "text/x-python",
   "name": "python",
   "nbconvert_exporter": "python",
   "pygments_lexer": "ipython3",
   "version": "3.9.12"
  }
 },
 "nbformat": 4,
 "nbformat_minor": 1
}
